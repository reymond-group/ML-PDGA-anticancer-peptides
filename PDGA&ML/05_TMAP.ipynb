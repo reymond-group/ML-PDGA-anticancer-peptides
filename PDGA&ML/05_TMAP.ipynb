{
 "cells": [
  {
   "cell_type": "code",
   "execution_count": 1,
   "metadata": {},
   "outputs": [
    {
     "name": "stdout",
     "output_type": "stream",
     "text": [
      "INFO: Pandarallel will run on 8 workers.\n",
      "INFO: Pandarallel will use Memory file system to transfer data between the main process and workers.\n",
      "INFO: Pandarallel will run on 8 workers.\n",
      "INFO: Pandarallel will use Memory file system to transfer data between the main process and workers.\n"
     ]
    }
   ],
   "source": [
    "import pandas as pd\n",
    "from pandas import Series, DataFrame\n",
    "from pandarallel import pandarallel\n",
    "pandarallel.initialize(progress_bar=True)\n",
    "import numpy as np\n",
    "folder = \"/data/PDGA_MAP4/\"\n",
    "from Levenshtein import distance as lev_dist\n",
    "import os\n",
    "import pickle\n",
    "import random\n",
    "from collections import Counter\n",
    "from operator import itemgetter\n",
    "import joblib\n",
    "from pandarallel import pandarallel\n",
    "pandarallel.initialize(progress_bar=True)\n",
    "from scipy.stats import rankdata\n",
    "from sklearn import metrics\n",
    "from sklearn.pipeline import make_pipeline\n",
    "from sklearn import svm\n",
    "from sklearn.metrics import roc_curve\n",
    "from sklearn.metrics import roc_auc_score\n",
    "from sklearn.model_selection import GridSearchCV\n",
    "from sklearn.neighbors import KNeighborsClassifier\n",
    "from rdkit import Chem\n",
    "from rdkit.Chem.rdmolfiles import MolToSmiles, MolFromSmiles\n",
    "from rdkit.Chem import Lipinski, Descriptors\n",
    "import matplotlib.pyplot as plt\n",
    "import seaborn as sns\n",
    "from matplotlib.colors import ListedColormap\n",
    "import tmap as tm\n",
    "from faerun import Faerun\n",
    "from map4 import MAP4Calculator\n",
    "from tqdm.notebook import tqdm"
   ]
  },
  {
   "cell_type": "code",
   "execution_count": 2,
   "metadata": {},
   "outputs": [],
   "source": [
    "df_all = pd.read_pickle(folder+\"pickles/all_sequences_with_NN_prop_helicity-hem.pkl\")"
   ]
  },
  {
   "cell_type": "code",
   "execution_count": 3,
   "metadata": {},
   "outputs": [],
   "source": [
    "df_selected = pd.concat([pd.read_csv(\"data/pdga_filtered_clustered.csv\"),pd.read_csv(\"data/pdga_rnd.csv\")])"
   ]
  },
  {
   "cell_type": "code",
   "execution_count": 4,
   "metadata": {},
   "outputs": [],
   "source": [
    "df_selected[\"isPredNotHemolytic\"] = 1\n",
    "df_selected[\"isPredActive\"] = 1"
   ]
  },
  {
   "cell_type": "code",
   "execution_count": 5,
   "metadata": {},
   "outputs": [],
   "source": [
    "selected_seqs = df_selected.Sequence.to_list()"
   ]
  },
  {
   "cell_type": "code",
   "execution_count": 6,
   "metadata": {},
   "outputs": [
    {
     "data": {
      "text/plain": [
       "726002"
      ]
     },
     "execution_count": 6,
     "metadata": {},
     "output_type": "execute_result"
    }
   ],
   "source": [
    "len(df_all)"
   ]
  },
  {
   "cell_type": "code",
   "execution_count": 7,
   "metadata": {},
   "outputs": [],
   "source": [
    "df_10k = df_all.sample(10000, random_state=0)"
   ]
  },
  {
   "cell_type": "code",
   "execution_count": 8,
   "metadata": {},
   "outputs": [],
   "source": [
    "df_10k = pd.concat([df_10k, df_selected])"
   ]
  },
  {
   "cell_type": "code",
   "execution_count": 9,
   "metadata": {},
   "outputs": [],
   "source": [
    "df_10k = df_10k.drop_duplicates(\"Sequence\")"
   ]
  },
  {
   "cell_type": "code",
   "execution_count": 10,
   "metadata": {},
   "outputs": [],
   "source": [
    "MAP4 = MAP4Calculator(dimensions=1024)\n",
    "def calc_map4(smiles):\n",
    "    mol = Chem.MolFromSmiles(smiles)\n",
    "    smiles = Chem.MolToSmiles(mol, isomericSmiles=False)\n",
    "    mol = Chem.MolFromSmiles(smiles)\n",
    "    map4 = MAP4.calculate(mol)\n",
    "    return np.array(map4)"
   ]
  },
  {
   "cell_type": "code",
   "execution_count": 11,
   "metadata": {},
   "outputs": [],
   "source": [
    "MAP4_shingles = MAP4Calculator(dimensions=1024, return_strings=True)\n",
    "def calc_map4_shingles(smiles):\n",
    "    mol = Chem.MolFromSmiles(smiles)\n",
    "    smiles = Chem.MolToSmiles(mol, isomericSmiles=False)\n",
    "    mol = Chem.MolFromSmiles(smiles)\n",
    "    map4 = MAP4_shingles.calculate(mol)\n",
    "    return set(map4)"
   ]
  },
  {
   "cell_type": "code",
   "execution_count": 12,
   "metadata": {},
   "outputs": [
    {
     "data": {
      "application/vnd.jupyter.widget-view+json": {
       "model_id": "9e3f7ef5dede4f37b6a9cc33e6d5818b",
       "version_major": 2,
       "version_minor": 0
      },
      "text/plain": [
       "VBox(children=(HBox(children=(IntProgress(value=0, description='0.00%', max=1254), Label(value='0 / 1254'))), …"
      ]
     },
     "metadata": {},
     "output_type": "display_data"
    }
   ],
   "source": [
    "df_10k[\"MAP4\"] = df_10k.SMILES.parallel_map(calc_map4)"
   ]
  },
  {
   "cell_type": "code",
   "execution_count": 13,
   "metadata": {},
   "outputs": [
    {
     "data": {
      "application/vnd.jupyter.widget-view+json": {
       "model_id": "19ceb258cfa14d5692ccfe5b780e48e5",
       "version_major": 2,
       "version_minor": 0
      },
      "text/plain": [
       "VBox(children=(HBox(children=(IntProgress(value=0, description='0.00%', max=1254), Label(value='0 / 1254'))), …"
      ]
     },
     "metadata": {},
     "output_type": "display_data"
    }
   ],
   "source": [
    "df_10k[\"MAP4_shingles\"] = df_10k.SMILES.parallel_map(calc_map4_shingles)"
   ]
  },
  {
   "cell_type": "code",
   "execution_count": 24,
   "metadata": {},
   "outputs": [],
   "source": [
    "df_10k_ = df_10k[[\"isPredNotHemolytic\", \"isPredActive\", \"length\", \"JD\", \"HydroMoment\", \"fraction_PredHelical\", \"Sequence\", \"MAP4_shingles\", \"MAP4\"]]\n",
    "df_10k = df_10k_.dropna().copy()"
   ]
  },
  {
   "cell_type": "code",
   "execution_count": 45,
   "metadata": {},
   "outputs": [],
   "source": [
    "def is_selected(seq):\n",
    "    if seq in selected_seqs:\n",
    "        return 1\n",
    "    else:\n",
    "        return 0\n",
    "    \n",
    "def size(seq):\n",
    "    if seq in selected_seqs:\n",
    "        return 2\n",
    "    else:\n",
    "        return 1"
   ]
  },
  {
   "cell_type": "code",
   "execution_count": 46,
   "metadata": {},
   "outputs": [],
   "source": [
    "df_10k[\"Size\"] = df_10k.Sequence.map(size)\n",
    "df_10k[\"Selected\"] = df_10k.Sequence.map(is_selected)"
   ]
  },
  {
   "cell_type": "code",
   "execution_count": 27,
   "metadata": {},
   "outputs": [],
   "source": [
    "if not os.path.exists(folder+\"PDGA_anticancer_LSHforest\"):\n",
    "    fps = df_10k[\"MAP4\"].tolist()\n",
    "    fps_ = []\n",
    "\n",
    "    for fp in fps:\n",
    "        fp_ = tm.VectorUint(fp)\n",
    "        fps_.append(fp_)\n",
    "\n",
    "    lf = tm.LSHForest(1024, 32)\n",
    "    lf.batch_add(fps_)\n",
    "\n",
    "    lf.index()\n",
    "    lf.store(folder + 'PDGA_anticancer_LSHforest')\n",
    "else:\n",
    "    lf = tm.LSHForest(1024, 32)\n",
    "    lf.restore(folder + 'PDGA_anticancer_LSHforest')"
   ]
  },
  {
   "cell_type": "code",
   "execution_count": 49,
   "metadata": {},
   "outputs": [
    {
     "data": {
      "application/vnd.jupyter.widget-view+json": {
       "model_id": "282238e4ef3848c78d301773341309ee",
       "version_major": 2,
       "version_minor": 0
      },
      "text/plain": [
       "HBox(children=(FloatProgress(value=0.0, max=9996.0), HTML(value='')))"
      ]
     },
     "metadata": {},
     "output_type": "display_data"
    },
    {
     "name": "stdout",
     "output_type": "stream",
     "text": [
      "\n"
     ]
    },
    {
     "ename": "KeyboardInterrupt",
     "evalue": "",
     "output_type": "error",
     "traceback": [
      "\u001b[0;31m---------------------------------------------------------------------------\u001b[0m",
      "\u001b[0;31mKeyboardInterrupt\u001b[0m                         Traceback (most recent call last)",
      "\u001b[0;32m<ipython-input-49-39fbb1046947>\u001b[0m in \u001b[0;36m<module>\u001b[0;34m\u001b[0m\n\u001b[1;32m      6\u001b[0m         \u001b[0;32mfor\u001b[0m \u001b[0mj\u001b[0m \u001b[0;32min\u001b[0m \u001b[0mrange\u001b[0m\u001b[0;34m(\u001b[0m\u001b[0mi\u001b[0m\u001b[0;34m)\u001b[0m\u001b[0;34m:\u001b[0m\u001b[0;34m\u001b[0m\u001b[0;34m\u001b[0m\u001b[0m\n\u001b[1;32m      7\u001b[0m             \u001b[0mb\u001b[0m \u001b[0;34m=\u001b[0m \u001b[0mfps\u001b[0m\u001b[0;34m[\u001b[0m\u001b[0mj\u001b[0m\u001b[0;34m]\u001b[0m\u001b[0;34m\u001b[0m\u001b[0;34m\u001b[0m\u001b[0m\n\u001b[0;32m----> 8\u001b[0;31m             \u001b[0msimilarity_metric\u001b[0m\u001b[0;34m[\u001b[0m\u001b[0mi\u001b[0m\u001b[0;34m,\u001b[0m\u001b[0mj\u001b[0m\u001b[0;34m]\u001b[0m \u001b[0;34m=\u001b[0m \u001b[0mlen\u001b[0m\u001b[0;34m(\u001b[0m\u001b[0ma\u001b[0m\u001b[0;34m.\u001b[0m\u001b[0mintersection\u001b[0m\u001b[0;34m(\u001b[0m\u001b[0mb\u001b[0m\u001b[0;34m)\u001b[0m\u001b[0;34m)\u001b[0m\u001b[0;34m/\u001b[0m\u001b[0mlen\u001b[0m\u001b[0;34m(\u001b[0m\u001b[0ma\u001b[0m\u001b[0;34m.\u001b[0m\u001b[0munion\u001b[0m\u001b[0;34m(\u001b[0m\u001b[0mb\u001b[0m\u001b[0;34m)\u001b[0m\u001b[0;34m)\u001b[0m\u001b[0;34m\u001b[0m\u001b[0;34m\u001b[0m\u001b[0m\n\u001b[0m\u001b[1;32m      9\u001b[0m             \u001b[0msimilarity_metric\u001b[0m\u001b[0;34m[\u001b[0m\u001b[0mj\u001b[0m\u001b[0;34m,\u001b[0m\u001b[0mi\u001b[0m\u001b[0;34m]\u001b[0m \u001b[0;34m=\u001b[0m \u001b[0msimilarity_metric\u001b[0m\u001b[0;34m[\u001b[0m\u001b[0mi\u001b[0m\u001b[0;34m,\u001b[0m\u001b[0mj\u001b[0m\u001b[0;34m]\u001b[0m\u001b[0;34m\u001b[0m\u001b[0;34m\u001b[0m\u001b[0m\n\u001b[1;32m     10\u001b[0m     \u001b[0mjoblib\u001b[0m\u001b[0;34m.\u001b[0m\u001b[0mdump\u001b[0m\u001b[0;34m(\u001b[0m\u001b[0msimilarity_metric\u001b[0m\u001b[0;34m,\u001b[0m \u001b[0mfolder\u001b[0m\u001b[0;34m+\u001b[0m\u001b[0;34m\"PDGA_anticancer_sim_metric.pkl\"\u001b[0m\u001b[0;34m)\u001b[0m\u001b[0;34m\u001b[0m\u001b[0;34m\u001b[0m\u001b[0m\n",
      "\u001b[0;31mKeyboardInterrupt\u001b[0m: "
     ]
    }
   ],
   "source": [
    "if not os.path.exists(folder+\"PDGA_anticancer_sim_metric.pkl\"):\n",
    "    fps = df_10k[\"MAP4_shingles\"].tolist()\n",
    "    similarity_metric = np.zeros((len(fps), len(fps)))\n",
    "    np.fill_diagonal(similarity_metric, 1.0)\n",
    "    for i, a in enumerate(tqdm(fps)):\n",
    "        for j in range(i):\n",
    "            b = fps[j]\n",
    "            similarity_metric[i,j] = len(a.intersection(b))/len(a.union(b))\n",
    "            similarity_metric[j,i] = similarity_metric[i,j]\n",
    "    joblib.dump(similarity_metric, folder+\"PDGA_anticancer_sim_metric.pkl\")\n",
    "else:\n",
    "    similarity_metric = joblib.load(folder+\"PDGA_anticancer_sim_metric.pkl\")"
   ]
  },
  {
   "cell_type": "code",
   "execution_count": 28,
   "metadata": {},
   "outputs": [],
   "source": [
    "if not os.path.exists(folder+\"tm_layout.pkl\"):\n",
    "    cfg = tm.LayoutConfiguration()\n",
    "\n",
    "    # config\n",
    "    cfg.node_size = 1 / 35\n",
    "    cfg.mmm_repeats = 2\n",
    "    cfg.sl_extra_scaling_steps = 5\n",
    "    cfg.k = 20\n",
    "    cfg.sl_scaling_type = tm.RelativeToAvgLength\n",
    "    # Compute the layout\n",
    "\n",
    "    x_, y_, s, t, gp = tm.layout_from_lsh_forest(lf, cfg)\n",
    "    tm_layout = {\"x\": list(x_), \"y\": list(y_), \"s\" : list(s), \"t\" : list(t)}\n",
    "    joblib.dump(tm_layout, folder+\"tm_layout.pkl\")\n",
    "else:\n",
    "    tm_layout = joblib.load(folder+\"tm_layout.pkl\")"
   ]
  },
  {
   "cell_type": "code",
   "execution_count": 29,
   "metadata": {},
   "outputs": [
    {
     "data": {
      "text/plain": [
       "False"
      ]
     },
     "execution_count": 29,
     "metadata": {},
     "output_type": "execute_result"
    }
   ],
   "source": [
    "df_10k.isnull().values.any()"
   ]
  },
  {
   "cell_type": "code",
   "execution_count": 47,
   "metadata": {},
   "outputs": [],
   "source": [
    "isPredNonHemolytic = df_10k.isPredNotHemolytic.tolist()\n",
    "isPredActive = df_10k.isPredActive.tolist()\n",
    "length = df_10k.length.tolist()\n",
    "JD = df_10k.JD.tolist()\n",
    "HydroMoment = df_10k.HydroMoment.tolist()\n",
    "fraction_PredHelical = df_10k.fraction_PredHelical.tolist()\n",
    "labels = df_10k.Sequence.tolist()\n",
    "selected = df_10k.Selected.tolist()\n",
    "Size = df_10k.Size.to_list()"
   ]
  },
  {
   "cell_type": "code",
   "execution_count": 33,
   "metadata": {},
   "outputs": [],
   "source": [
    "custom_cmap = ListedColormap([ 'lightgray', 'limegreen'], name=\"custom\")\n",
    "\n",
    "groups = [\"0 - Predicted Hemolytic\", \"1 - Predicted Non-hemolytic\"]\n",
    "labels_groups, groups = Faerun.create_categories(groups)\n",
    "\n",
    "groups2 = [\"0 - Predicted Inactive\", \"1 - Predicted Active\"]\n",
    "labels_groups2, groups2 = Faerun.create_categories(groups2)\n",
    "\n",
    "groups3 = [\"0 - No\", \"1 - Yes\"]\n",
    "labels_groups3, groups3 = Faerun.create_categories(groups3)"
   ]
  },
  {
   "cell_type": "code",
   "execution_count": 34,
   "metadata": {},
   "outputs": [
    {
     "data": {
      "text/plain": [
       "9996"
      ]
     },
     "execution_count": 34,
     "metadata": {},
     "output_type": "execute_result"
    }
   ],
   "source": [
    "len(tm_layout[\"y\"])"
   ]
  },
  {
   "cell_type": "code",
   "execution_count": 35,
   "metadata": {},
   "outputs": [
    {
     "data": {
      "text/plain": [
       "169317    0.445\n",
       "300038    0.586\n",
       "644187    0.415\n",
       "235141    0.415\n",
       "95321     0.505\n",
       "          ...  \n",
       "5         0.387\n",
       "6         0.455\n",
       "7         0.581\n",
       "8         0.587\n",
       "9         0.354\n",
       "Name: JD, Length: 9996, dtype: float64"
      ]
     },
     "execution_count": 35,
     "metadata": {},
     "output_type": "execute_result"
    }
   ],
   "source": [
    "df_10k.JD"
   ]
  },
  {
   "cell_type": "code",
   "execution_count": 51,
   "metadata": {},
   "outputs": [
    {
     "data": {
      "text/html": [
       "\n",
       "        <iframe\n",
       "            width=\"100%\"\n",
       "            height=\"500\"\n",
       "            src=\"./MAP4_PDGA_anticancer.html\"\n",
       "            frameborder=\"0\"\n",
       "            allowfullscreen\n",
       "        ></iframe>\n",
       "        "
      ],
      "text/plain": [
       "<IPython.lib.display.IFrame at 0x7fe28efaa160>"
      ]
     },
     "metadata": {},
     "output_type": "display_data"
    },
    {
     "data": {
      "text/html": [
       "<a href='./MAP4_PDGA_anticancer.html' target='_blank'>./MAP4_PDGA_anticancer.html</a><br>"
      ],
      "text/plain": [
       "/home/alice/Code/PDGA_MAP4/MAP4_PDGA_anticancer.html"
      ]
     },
     "metadata": {},
     "output_type": "display_data"
    }
   ],
   "source": [
    "faerun = Faerun(view=\"front\", coords=False, title='MAP4_PDGA_anticancer')#, clear_color=\"#ffffff\",)\n",
    "faerun.add_scatter(\"MAP4_PDGA_anticancer\",\\\n",
    "                   {\"x\": tm.VectorFloat(tm_layout[\"x\"]), \\\n",
    "                        \"y\": tm.VectorFloat(tm_layout[\"y\"]), \\\n",
    "                        \"c\": [length, JD, HydroMoment, fraction_PredHelical, isPredNonHemolytic, isPredActive, selected],\\\n",
    "                        \"labels\": labels,\\\n",
    "                        \"s\": Size}, \\\n",
    "                    has_legend=True, \\\n",
    "                    colormap=[\"rainbow\", \"rainbow_r\", \"rainbow\", \"rainbow\", custom_cmap, custom_cmap, custom_cmap], \\\n",
    "                    point_scale=5, \\\n",
    "                    categorical=[False, False, False, False, True, True, True, True],\\\n",
    "                    series_title=[\"length\", \"True JD from VNWKKILGKIIKVVK-NH2\", \"Hydrophbic Moment\", \"Predicted Helical Faction\", \\\n",
    "                                  \"Predicted Hemolycity\", \"Predicted Activity\", \"Selected for Synthesis\"], \\\n",
    "                    max_legend_label=[str(round(max(length),2)), str(round(max(JD),2)), str(round(max(HydroMoment),2)), \\\n",
    "                                      str(round(max(fraction_PredHelical),2)),\\\n",
    "                                      None, None, None],\\\n",
    "                    min_legend_label=[str(round(min(length),2)), str(round(min(JD),2)), str(round(min(HydroMoment),2)), str(round(min(fraction_PredHelical),2)),\\\n",
    "                                   None, None, None],\\\n",
    "                    legend_labels=[None, None, None, None, labels_groups, labels_groups2, labels_groups3])\n",
    "\n",
    "faerun.add_tree(\"MAP4_PDGA_anticancer_tree\", {\"from\": tm.VectorUint(tm_layout[\"s\"]), \"to\": tm.VectorUint(tm_layout[\"t\"])}, point_helper=\"MAP4_PDGA_anticancer\", color=\"aaaaaa\")\n",
    "faerun.plot('MAP4_PDGA_anticancer')"
   ]
  },
  {
   "cell_type": "code",
   "execution_count": null,
   "metadata": {},
   "outputs": [],
   "source": []
  },
  {
   "cell_type": "code",
   "execution_count": null,
   "metadata": {},
   "outputs": [],
   "source": []
  }
 ],
 "metadata": {
  "kernelspec": {
   "display_name": "Python 3",
   "language": "python",
   "name": "python3"
  },
  "language_info": {
   "codemirror_mode": {
    "name": "ipython",
    "version": 3
   },
   "file_extension": ".py",
   "mimetype": "text/x-python",
   "name": "python",
   "nbconvert_exporter": "python",
   "pygments_lexer": "ipython3",
   "version": "3.6.10"
  }
 },
 "nbformat": 4,
 "nbformat_minor": 4
}
