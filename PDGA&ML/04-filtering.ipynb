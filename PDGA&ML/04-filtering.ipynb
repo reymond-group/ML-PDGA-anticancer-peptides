{
 "cells": [
  {
   "cell_type": "code",
   "execution_count": 1,
   "metadata": {},
   "outputs": [
    {
     "name": "stdout",
     "output_type": "stream",
     "text": [
      "INFO: Pandarallel will run on 8 workers.\n",
      "INFO: Pandarallel will use Memory file system to transfer data between the main process and workers.\n"
     ]
    }
   ],
   "source": [
    "import pandas as pd\n",
    "from pandas import Series, DataFrame\n",
    "from pandarallel import pandarallel\n",
    "pandarallel.initialize(progress_bar=True)\n",
    "import numpy as np\n",
    "folder = \"/data/PDGA_MAP4/\"\n",
    "from Levenshtein import distance as lev_dist"
   ]
  },
  {
   "cell_type": "markdown",
   "metadata": {},
   "source": [
    "# Filtering"
   ]
  },
  {
   "cell_type": "code",
   "execution_count": 2,
   "metadata": {},
   "outputs": [],
   "source": [
    "df_all = pd.read_pickle(folder+\"pickles/all_sequences_with_NN_prop_helicity-hem_correct_dist.pkl\")\n",
    "pdga = df_all.query(\"Set != 'training' and Set!= 'test' and isPredActive == True and isPredNotHemolytic == True\")"
   ]
  },
  {
   "cell_type": "code",
   "execution_count": 3,
   "metadata": {},
   "outputs": [],
   "source": [
    "df_all = df_all.drop_duplicates(\"Sequence\").copy()"
   ]
  },
  {
   "cell_type": "code",
   "execution_count": 5,
   "metadata": {},
   "outputs": [
    {
     "data": {
      "text/plain": [
       "6300"
      ]
     },
     "execution_count": 5,
     "metadata": {},
     "output_type": "execute_result"
    }
   ],
   "source": [
    "len(df_all.query(\"isPredActive == True and isPredNotHemolytic == True\"))"
   ]
  },
  {
   "cell_type": "code",
   "execution_count": 16,
   "metadata": {},
   "outputs": [
    {
     "data": {
      "text/plain": [
       "715658"
      ]
     },
     "execution_count": 16,
     "metadata": {},
     "output_type": "execute_result"
    }
   ],
   "source": [
    "len(df_all)"
   ]
  },
  {
   "cell_type": "code",
   "execution_count": 19,
   "metadata": {},
   "outputs": [],
   "source": [
    "pdga_filtered = pdga.query(\"fraction_PredHelical > 0.8 and HydroMoment > 0.3 and (dist_Training > 4 and dist_Training <= 7) and dist_Test > 4 and length <= 15 and D_AA == False\").reset_index(drop=True)"
   ]
  },
  {
   "cell_type": "code",
   "execution_count": 20,
   "metadata": {},
   "outputs": [
    {
     "data": {
      "text/plain": [
       "152"
      ]
     },
     "execution_count": 20,
     "metadata": {},
     "output_type": "execute_result"
    }
   ],
   "source": [
    "len(pdga_filtered)"
   ]
  },
  {
   "cell_type": "code",
   "execution_count": 21,
   "metadata": {},
   "outputs": [],
   "source": [
    "cols = ['ID', 'Sequence', 'prediction', 'prediction_hem', 'length', \n",
    "       'dist_Training', 'NN_Training', 'dist_Test', 'NN_Test', 'dist_Training_', 'NN_Training_', 'dist_Test_', 'NN_Test_', 'map_dist_Training',\n",
    "       'map_NN_Training', 'map_dist_Test', 'map_NN_Test', 'fraction_PredHelical', 'HydroMoment', 'SMILES', 'MAP4', 'JD']"
   ]
  },
  {
   "cell_type": "code",
   "execution_count": 22,
   "metadata": {},
   "outputs": [],
   "source": [
    "pdga_filtered[cols].to_csv(folder+\"data/pdga_filtered.csv\", index=False)\n",
    "pdga_filtered[cols].to_csv(\"data/pdga_filtered.csv\", index=False)"
   ]
  },
  {
   "cell_type": "markdown",
   "metadata": {},
   "source": [
    "# Clustering"
   ]
  },
  {
   "cell_type": "code",
   "execution_count": 23,
   "metadata": {},
   "outputs": [],
   "source": [
    "from rdkit.ML.Cluster.Butina import ClusterData\n",
    "clusters_pdga = ClusterData(pdga_filtered.Sequence.to_list(), len(pdga_filtered), 5, distFunc=lev_dist)"
   ]
  },
  {
   "cell_type": "code",
   "execution_count": 24,
   "metadata": {},
   "outputs": [
    {
     "data": {
      "text/plain": [
       "22"
      ]
     },
     "execution_count": 24,
     "metadata": {},
     "output_type": "execute_result"
    }
   ],
   "source": [
    "len(clusters_pdga)"
   ]
  },
  {
   "cell_type": "code",
   "execution_count": 25,
   "metadata": {},
   "outputs": [
    {
     "name": "stdout",
     "output_type": "stream",
     "text": [
      "ANWKKILKRLCDI\n"
     ]
    }
   ],
   "source": [
    "for cluster in clusters_pdga:\n",
    "    for idx in cluster:\n",
    "        if pdga_filtered.iloc[idx].Sequence == \"ANWKKILKRLCDI\":\n",
    "            idx_clusters = cluster\n",
    "for idx in idx_clusters:\n",
    "    print(pdga_filtered.iloc[idx].Sequence)"
   ]
  },
  {
   "cell_type": "code",
   "execution_count": 26,
   "metadata": {},
   "outputs": [],
   "source": [
    "pdga_filtered.iloc[list(idx_clusters)][cols].to_csv(folder+\"data/pdga_same_cluster.csv\", index=False)\n",
    "pdga_filtered.iloc[list(idx_clusters)][cols].to_csv(\"data/pdga_same_cluster.csv\", index=False)"
   ]
  },
  {
   "cell_type": "code",
   "execution_count": 38,
   "metadata": {},
   "outputs": [],
   "source": [
    "idx_pdga = []\n",
    "for cluster_pdga in clusters_pdga:\n",
    "    idx_pdga.append(cluster_pdga[0])"
   ]
  },
  {
   "cell_type": "code",
   "execution_count": 39,
   "metadata": {},
   "outputs": [
    {
     "data": {
      "text/plain": [
       "[7,\n",
       " 98,\n",
       " 38,\n",
       " 139,\n",
       " 12,\n",
       " 33,\n",
       " 130,\n",
       " 119,\n",
       " 53,\n",
       " 102,\n",
       " 0,\n",
       " 114,\n",
       " 89,\n",
       " 128,\n",
       " 143,\n",
       " 58,\n",
       " 81,\n",
       " 4,\n",
       " 79,\n",
       " 32,\n",
       " 10,\n",
       " 125]"
      ]
     },
     "execution_count": 39,
     "metadata": {},
     "output_type": "execute_result"
    }
   ],
   "source": [
    "idx_pdga"
   ]
  },
  {
   "cell_type": "code",
   "execution_count": 40,
   "metadata": {},
   "outputs": [],
   "source": [
    "pdga_filtered.iloc[idx_pdga][cols].to_csv(folder+\"data/pdga_filtered_clustered.csv\", index=False)\n",
    "pdga_filtered.iloc[idx_pdga][cols].to_csv(\"data/pdga_filtered_clustered.csv\", index=False)"
   ]
  }
 ],
 "metadata": {
  "kernelspec": {
   "display_name": "Python 3",
   "language": "python",
   "name": "python3"
  },
  "language_info": {
   "codemirror_mode": {
    "name": "ipython",
    "version": 3
   },
   "file_extension": ".py",
   "mimetype": "text/x-python",
   "name": "python",
   "nbconvert_exporter": "python",
   "pygments_lexer": "ipython3",
   "version": "3.6.10"
  }
 },
 "nbformat": 4,
 "nbformat_minor": 4
}
