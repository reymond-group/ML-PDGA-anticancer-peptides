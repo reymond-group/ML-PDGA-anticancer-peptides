{
 "cells": [
  {
   "cell_type": "code",
   "execution_count": 1,
   "metadata": {},
   "outputs": [
    {
     "name": "stdout",
     "output_type": "stream",
     "text": [
      "INFO: Pandarallel will run on 8 workers.\n",
      "INFO: Pandarallel will use Memory file system to transfer data between the main process and workers.\n",
      "INFO: Pandarallel will run on 8 workers.\n",
      "INFO: Pandarallel will use Memory file system to transfer data between the main process and workers.\n"
     ]
    }
   ],
   "source": [
    "import pandas as pd\n",
    "from pandas import Series, DataFrame\n",
    "from pandarallel import pandarallel\n",
    "pandarallel.initialize(progress_bar=True)\n",
    "import numpy as np\n",
    "folder2 = \"/data/PDGA_MAP4/\"\n",
    "folder1 = \"/data/AIpep/\"\n",
    "from Levenshtein import distance as lev_dist\n",
    "import os\n",
    "import pickle\n",
    "import random\n",
    "from collections import Counter\n",
    "from operator import itemgetter\n",
    "import joblib\n",
    "from pandarallel import pandarallel\n",
    "pandarallel.initialize(progress_bar=True)\n",
    "from scipy.stats import rankdata\n",
    "from sklearn import metrics\n",
    "from sklearn.pipeline import make_pipeline\n",
    "from sklearn import svm\n",
    "from sklearn.metrics import roc_curve\n",
    "from sklearn.metrics import roc_auc_score\n",
    "from sklearn.model_selection import GridSearchCV\n",
    "from sklearn.neighbors import KNeighborsClassifier\n",
    "from rdkit import Chem\n",
    "from rdkit.Chem.rdmolfiles import MolToSmiles, MolFromSmiles\n",
    "from rdkit.Chem import Lipinski, Descriptors\n",
    "import matplotlib.pyplot as plt\n",
    "import seaborn as sns\n",
    "from matplotlib.colors import ListedColormap\n",
    "import tmap as tm\n",
    "from faerun import Faerun\n",
    "from map4 import MAP4Calculator\n",
    "from tqdm.notebook import tqdm"
   ]
  },
  {
   "cell_type": "code",
   "execution_count": 2,
   "metadata": {},
   "outputs": [],
   "source": [
    "MAP4 = MAP4Calculator(dimensions=1024)\n",
    "def calc_map4(smiles):\n",
    "    mol = Chem.MolFromSmiles(smiles)\n",
    "    smiles = Chem.MolToSmiles(mol, isomericSmiles=False)\n",
    "    mol = Chem.MolFromSmiles(smiles)\n",
    "    map4 = MAP4.calculate(mol)\n",
    "    return np.array(map4)"
   ]
  },
  {
   "cell_type": "code",
   "execution_count": 3,
   "metadata": {},
   "outputs": [],
   "source": [
    "first_approach = pd.read_pickle(folder1+\"pickles/gen_anticancer_with_NN_prop_helicity.pkl\")\n",
    "evaluation_1 = first_approach.query(\"isPredActive == True\").copy()\n",
    "filtered_1 = pd.read_csv(\"ML/data/anticancer_filtered.csv\")\n",
    "picked_1 = pd.read_csv(\"ML/data/anticancer_filtered_clustered.csv\")"
   ]
  },
  {
   "cell_type": "code",
   "execution_count": 4,
   "metadata": {},
   "outputs": [],
   "source": [
    "filtered_1[\"set\"] = 0"
   ]
  },
  {
   "cell_type": "code",
   "execution_count": 5,
   "metadata": {},
   "outputs": [],
   "source": [
    "second_approach = pd.read_pickle(folder2+\"pickles/all_sequences_with_NN_prop_helicity-hem_correct_dist.pkl\")\n",
    "evaluation_2 = second_approach.query(\"isPredActive == True and isPredNotHemolytic == True\").copy()\n",
    "filtered_2 = pd.read_csv(\"PDGA&ML/data/pdga_filtered.csv\")\n",
    "picked_2 = pd.read_csv(\"PDGA&ML/data/pdga_filtered_clustered.csv\")"
   ]
  },
  {
   "cell_type": "code",
   "execution_count": 6,
   "metadata": {},
   "outputs": [],
   "source": [
    "filtered_2[\"set\"] = 1"
   ]
  },
  {
   "cell_type": "code",
   "execution_count": 7,
   "metadata": {},
   "outputs": [],
   "source": [
    "tl = pd.read_csv(\"ML/data/TL.csv\")"
   ]
  },
  {
   "cell_type": "code",
   "execution_count": 8,
   "metadata": {},
   "outputs": [],
   "source": [
    "tl[\"set\"] = 2"
   ]
  },
  {
   "cell_type": "code",
   "execution_count": 9,
   "metadata": {},
   "outputs": [],
   "source": [
    "df_all = pd.concat([filtered_1, filtered_2, tl])"
   ]
  },
  {
   "cell_type": "code",
   "execution_count": 10,
   "metadata": {},
   "outputs": [
    {
     "data": {
      "application/vnd.jupyter.widget-view+json": {
       "model_id": "a2ce8faf707048a19c8a189f9c059c74",
       "version_major": 2,
       "version_minor": 0
      },
      "text/plain": [
       "VBox(children=(HBox(children=(IntProgress(value=0, description='0.00%', max=51), Label(value='0 / 51'))), HBox…"
      ]
     },
     "metadata": {},
     "output_type": "display_data"
    }
   ],
   "source": [
    "df_all[\"MAP4\"] = df_all.SMILES.parallel_map(calc_map4)"
   ]
  },
  {
   "cell_type": "code",
   "execution_count": 11,
   "metadata": {},
   "outputs": [
    {
     "data": {
      "text/plain": [
       "407"
      ]
     },
     "execution_count": 11,
     "metadata": {},
     "output_type": "execute_result"
    }
   ],
   "source": [
    "len(df_all.drop_duplicates(\"Sequence\"))"
   ]
  },
  {
   "cell_type": "code",
   "execution_count": 12,
   "metadata": {},
   "outputs": [
    {
     "data": {
      "text/plain": [
       "407"
      ]
     },
     "execution_count": 12,
     "metadata": {},
     "output_type": "execute_result"
    }
   ],
   "source": [
    "len(df_all)"
   ]
  },
  {
   "cell_type": "code",
   "execution_count": 13,
   "metadata": {},
   "outputs": [],
   "source": [
    "picked_1_seq = picked_1.Sequence.tolist()\n",
    "picked_2_seq = picked_2.Sequence.tolist()"
   ]
  },
  {
   "cell_type": "code",
   "execution_count": 14,
   "metadata": {},
   "outputs": [],
   "source": [
    "def is_picked(seq):\n",
    "    if seq in picked_1_seq or seq in picked_2_seq:\n",
    "        return 1\n",
    "    else:\n",
    "        return 0"
   ]
  },
  {
   "cell_type": "code",
   "execution_count": 15,
   "metadata": {},
   "outputs": [],
   "source": [
    "def calc_mw(smiles):\n",
    "    mol = Chem.MolFromSmiles(smiles)\n",
    "    mw = Descriptors.ExactMolWt(mol)\n",
    "    return mw"
   ]
  },
  {
   "cell_type": "code",
   "execution_count": 16,
   "metadata": {},
   "outputs": [],
   "source": [
    "def calc_pos(seq):\n",
    "    seq = seq.upper()\n",
    "    return (seq.count(\"K\") + seq.count(\"R\"))/len(seq)\n",
    "\n",
    "def calc_neg(seq):\n",
    "    seq = seq.upper()\n",
    "    return (seq.count(\"D\") + seq.count(\"E\"))/len(seq)\n",
    "\n",
    "def calc_hydr(seq):\n",
    "    seq = seq.upper()\n",
    "    return (seq.count(\"A\") + seq.count(\"V\") + seq.count(\"L\") + seq.count(\"I\") + seq.count(\"F\") + seq.count(\"M\") + seq.count(\"W\") + seq.count(\"C\"))/len(seq) \n",
    "\n",
    "def make_label(row):\n",
    "    seq_ = row.seq\n",
    "    if row.seq in picked_1_seq or row.seq in picked_2_seq:\n",
    "        name = synth[synth[\"seq\"] == seq_].id.to_list()[0]\n",
    "        return f\"{name}|{seq_}\"\n",
    "    else:\n",
    "        return seq_\n",
    "\n",
    "def calc_charge(row):\n",
    "    return row.pos - row.neg\n",
    "    \n",
    "def charge_fraction(row):\n",
    "    l = calc_all(row.seq)\n",
    "    c = row.charge\n",
    "    return c/l\n",
    "\n",
    "\n",
    "def is_larger(seq):\n",
    "    if seq == \"ANWKKWIGKVIKLVK\" or seq == \"VNWKKILGKIIKVVK\":\n",
    "        print(seq)\n",
    "        return 1\n",
    "    else:\n",
    "        return 0.5 "
   ]
  },
  {
   "cell_type": "code",
   "execution_count": 17,
   "metadata": {},
   "outputs": [],
   "source": [
    "df_all[\"synth\"] = df_all.Sequence.map(is_picked)"
   ]
  },
  {
   "cell_type": "code",
   "execution_count": 18,
   "metadata": {},
   "outputs": [
    {
     "name": "stdout",
     "output_type": "stream",
     "text": [
      "ANWKKWIGKVIKLVK\n",
      "VNWKKILGKIIKVVK\n"
     ]
    }
   ],
   "source": [
    "df_all[\"neg\"]=df_all.Sequence.map(calc_neg)\n",
    "df_all[\"pos\"]=df_all.Sequence.map(calc_pos)\n",
    "df_all[\"hydr\"]=df_all.Sequence.map(calc_hydr)\n",
    "df_all[\"islarger\"]=df_all.Sequence.map(is_larger)"
   ]
  },
  {
   "cell_type": "code",
   "execution_count": 19,
   "metadata": {},
   "outputs": [],
   "source": [
    "if not os.path.exists(folder2+\"all_anticancer_LSHforest_\"):\n",
    "    fps = df_all[\"MAP4\"].tolist()\n",
    "    fps_ = []\n",
    "\n",
    "    for fp in fps:\n",
    "        fp_ = tm.VectorUint(fp)\n",
    "        fps_.append(fp_)\n",
    "\n",
    "    lf = tm.LSHForest(1024, 32)\n",
    "    lf.batch_add(fps_)\n",
    "\n",
    "    lf.index()\n",
    "    lf.store(folder2 + 'all_anticancer_LSHforest')\n",
    "else:\n",
    "    lf = tm.LSHForest(1024, 32)\n",
    "    lf.restore(folder2 + 'all_anticancer_LSHforest')"
   ]
  },
  {
   "cell_type": "code",
   "execution_count": 20,
   "metadata": {},
   "outputs": [
    {
     "data": {
      "text/html": [
       "<div>\n",
       "<style scoped>\n",
       "    .dataframe tbody tr th:only-of-type {\n",
       "        vertical-align: middle;\n",
       "    }\n",
       "\n",
       "    .dataframe tbody tr th {\n",
       "        vertical-align: top;\n",
       "    }\n",
       "\n",
       "    .dataframe thead th {\n",
       "        text-align: right;\n",
       "    }\n",
       "</style>\n",
       "<table border=\"1\" class=\"dataframe\">\n",
       "  <thead>\n",
       "    <tr style=\"text-align: right;\">\n",
       "      <th></th>\n",
       "      <th>ID</th>\n",
       "      <th>Sequence</th>\n",
       "      <th>prediction</th>\n",
       "      <th>length</th>\n",
       "      <th>dist_Training</th>\n",
       "      <th>NN_Training</th>\n",
       "      <th>dist_Test</th>\n",
       "      <th>NN_Test</th>\n",
       "      <th>map_dist_Training</th>\n",
       "      <th>map_NN_Training</th>\n",
       "      <th>...</th>\n",
       "      <th>SS</th>\n",
       "      <th>countH</th>\n",
       "      <th>fraction_PredBetaSheet</th>\n",
       "      <th>fraction_PredCoil</th>\n",
       "      <th>HeLa</th>\n",
       "      <th>synth</th>\n",
       "      <th>neg</th>\n",
       "      <th>pos</th>\n",
       "      <th>hydr</th>\n",
       "      <th>islarger</th>\n",
       "    </tr>\n",
       "  </thead>\n",
       "  <tbody>\n",
       "    <tr>\n",
       "      <th>0</th>\n",
       "      <td>gen_anticancer_91</td>\n",
       "      <td>LRFLGKVIKVLLKVL</td>\n",
       "      <td>0.998483</td>\n",
       "      <td>15</td>\n",
       "      <td>7</td>\n",
       "      <td>LKLLKKLLKKLLKLL</td>\n",
       "      <td>7</td>\n",
       "      <td>FLGALFKVASKVL</td>\n",
       "      <td>0.549805</td>\n",
       "      <td>FLGVLFKVLSKLL</td>\n",
       "      <td>...</td>\n",
       "      <td>NaN</td>\n",
       "      <td>NaN</td>\n",
       "      <td>NaN</td>\n",
       "      <td>NaN</td>\n",
       "      <td>NaN</td>\n",
       "      <td>0</td>\n",
       "      <td>0.0</td>\n",
       "      <td>0.266667</td>\n",
       "      <td>0.666667</td>\n",
       "      <td>0.5</td>\n",
       "    </tr>\n",
       "    <tr>\n",
       "      <th>1</th>\n",
       "      <td>gen_anticancer_318</td>\n",
       "      <td>KWWKKIKKLLRAFK</td>\n",
       "      <td>0.999596</td>\n",
       "      <td>14</td>\n",
       "      <td>6</td>\n",
       "      <td>IKKWWSKIKKLLK</td>\n",
       "      <td>6</td>\n",
       "      <td>KLWKKWKKWLK</td>\n",
       "      <td>0.473633</td>\n",
       "      <td>kFwKLLkKAlrLwKkVL</td>\n",
       "      <td>...</td>\n",
       "      <td>NaN</td>\n",
       "      <td>NaN</td>\n",
       "      <td>NaN</td>\n",
       "      <td>NaN</td>\n",
       "      <td>NaN</td>\n",
       "      <td>0</td>\n",
       "      <td>0.0</td>\n",
       "      <td>0.500000</td>\n",
       "      <td>0.500000</td>\n",
       "      <td>0.5</td>\n",
       "    </tr>\n",
       "    <tr>\n",
       "      <th>2</th>\n",
       "      <td>gen_anticancer_608</td>\n",
       "      <td>FFATIAKLLAGWFK</td>\n",
       "      <td>0.992423</td>\n",
       "      <td>14</td>\n",
       "      <td>6</td>\n",
       "      <td>FFPFVAKLLKGLF</td>\n",
       "      <td>7</td>\n",
       "      <td>FLPIIAKLLGGLL</td>\n",
       "      <td>0.583008</td>\n",
       "      <td>FFPIVAKLLRGLF</td>\n",
       "      <td>...</td>\n",
       "      <td>NaN</td>\n",
       "      <td>NaN</td>\n",
       "      <td>NaN</td>\n",
       "      <td>NaN</td>\n",
       "      <td>NaN</td>\n",
       "      <td>0</td>\n",
       "      <td>0.0</td>\n",
       "      <td>0.142857</td>\n",
       "      <td>0.714286</td>\n",
       "      <td>0.5</td>\n",
       "    </tr>\n",
       "    <tr>\n",
       "      <th>3</th>\n",
       "      <td>gen_anticancer_620</td>\n",
       "      <td>RWFKILKKIQRQW</td>\n",
       "      <td>0.996568</td>\n",
       "      <td>13</td>\n",
       "      <td>6</td>\n",
       "      <td>RWKIFKKVVKKW</td>\n",
       "      <td>6</td>\n",
       "      <td>RWKIFKKIEKVG</td>\n",
       "      <td>0.500977</td>\n",
       "      <td>RWFKIQLQIRRWKNKK</td>\n",
       "      <td>...</td>\n",
       "      <td>NaN</td>\n",
       "      <td>NaN</td>\n",
       "      <td>NaN</td>\n",
       "      <td>NaN</td>\n",
       "      <td>NaN</td>\n",
       "      <td>0</td>\n",
       "      <td>0.0</td>\n",
       "      <td>0.384615</td>\n",
       "      <td>0.461538</td>\n",
       "      <td>0.5</td>\n",
       "    </tr>\n",
       "    <tr>\n",
       "      <th>4</th>\n",
       "      <td>gen_anticancer_801</td>\n",
       "      <td>KWRKLLKRVARLVRA</td>\n",
       "      <td>0.997990</td>\n",
       "      <td>15</td>\n",
       "      <td>7</td>\n",
       "      <td>KWKIRVRLSA</td>\n",
       "      <td>7</td>\n",
       "      <td>KLKKLLKRWRRWWR</td>\n",
       "      <td>0.488281</td>\n",
       "      <td>KWRRKLKKLRPKKKRKV</td>\n",
       "      <td>...</td>\n",
       "      <td>NaN</td>\n",
       "      <td>NaN</td>\n",
       "      <td>NaN</td>\n",
       "      <td>NaN</td>\n",
       "      <td>NaN</td>\n",
       "      <td>0</td>\n",
       "      <td>0.0</td>\n",
       "      <td>0.466667</td>\n",
       "      <td>0.533333</td>\n",
       "      <td>0.5</td>\n",
       "    </tr>\n",
       "    <tr>\n",
       "      <th>...</th>\n",
       "      <td>...</td>\n",
       "      <td>...</td>\n",
       "      <td>...</td>\n",
       "      <td>...</td>\n",
       "      <td>...</td>\n",
       "      <td>...</td>\n",
       "      <td>...</td>\n",
       "      <td>...</td>\n",
       "      <td>...</td>\n",
       "      <td>...</td>\n",
       "      <td>...</td>\n",
       "      <td>...</td>\n",
       "      <td>...</td>\n",
       "      <td>...</td>\n",
       "      <td>...</td>\n",
       "      <td>...</td>\n",
       "      <td>...</td>\n",
       "      <td>...</td>\n",
       "      <td>...</td>\n",
       "      <td>...</td>\n",
       "      <td>...</td>\n",
       "    </tr>\n",
       "    <tr>\n",
       "      <th>48</th>\n",
       "      <td>10722</td>\n",
       "      <td>RLLRLLRLRRLLRL</td>\n",
       "      <td>0.918359</td>\n",
       "      <td>14</td>\n",
       "      <td>3</td>\n",
       "      <td>RLLRRLLRRLLR</td>\n",
       "      <td>0</td>\n",
       "      <td>RLLRLLRLRRLLRL</td>\n",
       "      <td>0.281250</td>\n",
       "      <td>LLRRLLRRLLRRLLRR</td>\n",
       "      <td>...</td>\n",
       "      <td>['C', 'H', 'H', 'H', 'H', 'H', 'H', 'H', 'H', ...</td>\n",
       "      <td>11.0</td>\n",
       "      <td>0.0</td>\n",
       "      <td>0.214286</td>\n",
       "      <td>True</td>\n",
       "      <td>0</td>\n",
       "      <td>0.0</td>\n",
       "      <td>0.428571</td>\n",
       "      <td>0.571429</td>\n",
       "      <td>0.5</td>\n",
       "    </tr>\n",
       "    <tr>\n",
       "      <th>49</th>\n",
       "      <td>10723</td>\n",
       "      <td>KLLKLLKKLLKLLK</td>\n",
       "      <td>0.948125</td>\n",
       "      <td>14</td>\n",
       "      <td>2</td>\n",
       "      <td>KLKKLLKKLKKLLK</td>\n",
       "      <td>0</td>\n",
       "      <td>KLLKLLKKLLKLLK</td>\n",
       "      <td>0.087891</td>\n",
       "      <td>KLKKLLKKLKKLLK</td>\n",
       "      <td>...</td>\n",
       "      <td>['C', 'H', 'H', 'H', 'H', 'H', 'H', 'H', 'H', ...</td>\n",
       "      <td>12.0</td>\n",
       "      <td>0.0</td>\n",
       "      <td>0.142857</td>\n",
       "      <td>True</td>\n",
       "      <td>0</td>\n",
       "      <td>0.0</td>\n",
       "      <td>0.428571</td>\n",
       "      <td>0.571429</td>\n",
       "      <td>0.5</td>\n",
       "    </tr>\n",
       "    <tr>\n",
       "      <th>50</th>\n",
       "      <td>12591</td>\n",
       "      <td>FKKLKKLFSKLWNWK</td>\n",
       "      <td>0.899559</td>\n",
       "      <td>15</td>\n",
       "      <td>2</td>\n",
       "      <td>FKRLKKLFSKIWNWK</td>\n",
       "      <td>0</td>\n",
       "      <td>FKKLKKLFSKLWNWK</td>\n",
       "      <td>0.224609</td>\n",
       "      <td>FKKLKKLFSKLKNWW</td>\n",
       "      <td>...</td>\n",
       "      <td>['C', 'H', 'H', 'H', 'H', 'H', 'H', 'H', 'H', ...</td>\n",
       "      <td>12.0</td>\n",
       "      <td>0.0</td>\n",
       "      <td>0.200000</td>\n",
       "      <td>True</td>\n",
       "      <td>0</td>\n",
       "      <td>0.0</td>\n",
       "      <td>0.400000</td>\n",
       "      <td>0.466667</td>\n",
       "      <td>0.5</td>\n",
       "    </tr>\n",
       "    <tr>\n",
       "      <th>51</th>\n",
       "      <td>12592</td>\n",
       "      <td>FKKLKKLFSKLWNWKRKKRRQRRR</td>\n",
       "      <td>0.524350</td>\n",
       "      <td>24</td>\n",
       "      <td>11</td>\n",
       "      <td>FKRLKKLFSKIWNWK</td>\n",
       "      <td>0</td>\n",
       "      <td>FKKLKKLFSKLWNWKRKKRRQRRR</td>\n",
       "      <td>0.529297</td>\n",
       "      <td>LKKLYKRLFKLWKRLYRYLKKPVR</td>\n",
       "      <td>...</td>\n",
       "      <td>['C', 'H', 'H', 'H', 'H', 'H', 'H', 'H', 'H', ...</td>\n",
       "      <td>22.0</td>\n",
       "      <td>0.0</td>\n",
       "      <td>0.083333</td>\n",
       "      <td>True</td>\n",
       "      <td>0</td>\n",
       "      <td>0.0</td>\n",
       "      <td>0.583333</td>\n",
       "      <td>0.291667</td>\n",
       "      <td>0.5</td>\n",
       "    </tr>\n",
       "    <tr>\n",
       "      <th>52</th>\n",
       "      <td>13330</td>\n",
       "      <td>FAKKFAKKFKKFAKKFAKFAFAF</td>\n",
       "      <td>0.962023</td>\n",
       "      <td>23</td>\n",
       "      <td>0</td>\n",
       "      <td>FAKKFAKKFKKFAKKFAKFAFAF</td>\n",
       "      <td>1</td>\n",
       "      <td>FAKKFAKKFKKFAKKFAFAFAF</td>\n",
       "      <td>0.000000</td>\n",
       "      <td>FAKKFAKKFKKFAKKFAKFAFAF</td>\n",
       "      <td>...</td>\n",
       "      <td>['C', 'H', 'H', 'H', 'H', 'H', 'H', 'H', 'H', ...</td>\n",
       "      <td>21.0</td>\n",
       "      <td>0.0</td>\n",
       "      <td>0.086957</td>\n",
       "      <td>True</td>\n",
       "      <td>0</td>\n",
       "      <td>0.0</td>\n",
       "      <td>0.391304</td>\n",
       "      <td>0.608696</td>\n",
       "      <td>0.5</td>\n",
       "    </tr>\n",
       "  </tbody>\n",
       "</table>\n",
       "<p>407 rows × 84 columns</p>\n",
       "</div>"
      ],
      "text/plain": [
       "                    ID                  Sequence  prediction  length  \\\n",
       "0    gen_anticancer_91           LRFLGKVIKVLLKVL    0.998483      15   \n",
       "1   gen_anticancer_318            KWWKKIKKLLRAFK    0.999596      14   \n",
       "2   gen_anticancer_608            FFATIAKLLAGWFK    0.992423      14   \n",
       "3   gen_anticancer_620             RWFKILKKIQRQW    0.996568      13   \n",
       "4   gen_anticancer_801           KWRKLLKRVARLVRA    0.997990      15   \n",
       "..                 ...                       ...         ...     ...   \n",
       "48               10722            RLLRLLRLRRLLRL    0.918359      14   \n",
       "49               10723            KLLKLLKKLLKLLK    0.948125      14   \n",
       "50               12591           FKKLKKLFSKLWNWK    0.899559      15   \n",
       "51               12592  FKKLKKLFSKLWNWKRKKRRQRRR    0.524350      24   \n",
       "52               13330   FAKKFAKKFKKFAKKFAKFAFAF    0.962023      23   \n",
       "\n",
       "    dist_Training              NN_Training  dist_Test  \\\n",
       "0               7          LKLLKKLLKKLLKLL          7   \n",
       "1               6            IKKWWSKIKKLLK          6   \n",
       "2               6            FFPFVAKLLKGLF          7   \n",
       "3               6             RWKIFKKVVKKW          6   \n",
       "4               7               KWKIRVRLSA          7   \n",
       "..            ...                      ...        ...   \n",
       "48              3             RLLRRLLRRLLR          0   \n",
       "49              2           KLKKLLKKLKKLLK          0   \n",
       "50              2          FKRLKKLFSKIWNWK          0   \n",
       "51             11          FKRLKKLFSKIWNWK          0   \n",
       "52              0  FAKKFAKKFKKFAKKFAKFAFAF          1   \n",
       "\n",
       "                     NN_Test  map_dist_Training           map_NN_Training  \\\n",
       "0              FLGALFKVASKVL           0.549805             FLGVLFKVLSKLL   \n",
       "1                KLWKKWKKWLK           0.473633         kFwKLLkKAlrLwKkVL   \n",
       "2              FLPIIAKLLGGLL           0.583008             FFPIVAKLLRGLF   \n",
       "3               RWKIFKKIEKVG           0.500977          RWFKIQLQIRRWKNKK   \n",
       "4             KLKKLLKRWRRWWR           0.488281         KWRRKLKKLRPKKKRKV   \n",
       "..                       ...                ...                       ...   \n",
       "48            RLLRLLRLRRLLRL           0.281250          LLRRLLRRLLRRLLRR   \n",
       "49            KLLKLLKKLLKLLK           0.087891            KLKKLLKKLKKLLK   \n",
       "50           FKKLKKLFSKLWNWK           0.224609           FKKLKKLFSKLKNWW   \n",
       "51  FKKLKKLFSKLWNWKRKKRRQRRR           0.529297  LKKLYKRLFKLWKRLYRYLKKPVR   \n",
       "52    FAKKFAKKFKKFAKKFAFAFAF           0.000000   FAKKFAKKFKKFAKKFAKFAFAF   \n",
       "\n",
       "    ...                                                 SS countH  \\\n",
       "0   ...                                                NaN    NaN   \n",
       "1   ...                                                NaN    NaN   \n",
       "2   ...                                                NaN    NaN   \n",
       "3   ...                                                NaN    NaN   \n",
       "4   ...                                                NaN    NaN   \n",
       "..  ...                                                ...    ...   \n",
       "48  ...  ['C', 'H', 'H', 'H', 'H', 'H', 'H', 'H', 'H', ...   11.0   \n",
       "49  ...  ['C', 'H', 'H', 'H', 'H', 'H', 'H', 'H', 'H', ...   12.0   \n",
       "50  ...  ['C', 'H', 'H', 'H', 'H', 'H', 'H', 'H', 'H', ...   12.0   \n",
       "51  ...  ['C', 'H', 'H', 'H', 'H', 'H', 'H', 'H', 'H', ...   22.0   \n",
       "52  ...  ['C', 'H', 'H', 'H', 'H', 'H', 'H', 'H', 'H', ...   21.0   \n",
       "\n",
       "    fraction_PredBetaSheet  fraction_PredCoil  HeLa synth  neg       pos  \\\n",
       "0                      NaN                NaN   NaN     0  0.0  0.266667   \n",
       "1                      NaN                NaN   NaN     0  0.0  0.500000   \n",
       "2                      NaN                NaN   NaN     0  0.0  0.142857   \n",
       "3                      NaN                NaN   NaN     0  0.0  0.384615   \n",
       "4                      NaN                NaN   NaN     0  0.0  0.466667   \n",
       "..                     ...                ...   ...   ...  ...       ...   \n",
       "48                     0.0           0.214286  True     0  0.0  0.428571   \n",
       "49                     0.0           0.142857  True     0  0.0  0.428571   \n",
       "50                     0.0           0.200000  True     0  0.0  0.400000   \n",
       "51                     0.0           0.083333  True     0  0.0  0.583333   \n",
       "52                     0.0           0.086957  True     0  0.0  0.391304   \n",
       "\n",
       "        hydr islarger  \n",
       "0   0.666667      0.5  \n",
       "1   0.500000      0.5  \n",
       "2   0.714286      0.5  \n",
       "3   0.461538      0.5  \n",
       "4   0.533333      0.5  \n",
       "..       ...      ...  \n",
       "48  0.571429      0.5  \n",
       "49  0.571429      0.5  \n",
       "50  0.466667      0.5  \n",
       "51  0.291667      0.5  \n",
       "52  0.608696      0.5  \n",
       "\n",
       "[407 rows x 84 columns]"
      ]
     },
     "execution_count": 20,
     "metadata": {},
     "output_type": "execute_result"
    }
   ],
   "source": [
    "df_all"
   ]
  },
  {
   "cell_type": "code",
   "execution_count": 21,
   "metadata": {},
   "outputs": [],
   "source": [
    "if not os.path.exists(folder2+\"all_anticancer_tm_layout_.pkl\"):\n",
    "    cfg = tm.LayoutConfiguration()\n",
    "\n",
    "    # config\n",
    "    cfg.node_size = 1 / 35\n",
    "    cfg.mmm_repeats = 2\n",
    "    cfg.sl_extra_scaling_steps = 5\n",
    "    cfg.k = 20\n",
    "    cfg.sl_scaling_type = tm.RelativeToAvgLength\n",
    "    # Compute the layout\n",
    "\n",
    "    x_, y_, s, t, gp = tm.layout_from_lsh_forest(lf, cfg)\n",
    "    tm_layout = {\"x\": list(x_), \"y\": list(y_), \"s\" : list(s), \"t\" : list(t)}\n",
    "    joblib.dump(tm_layout, folder2+\"all_anticancer_tm_layout.pkl\")\n",
    "else:\n",
    "    tm_layout = joblib.load(folder2+\"all_anticancer_tm_layout.pkl\")"
   ]
  },
  {
   "cell_type": "code",
   "execution_count": 22,
   "metadata": {},
   "outputs": [],
   "source": [
    "set_ = df_all.set.tolist()\n",
    "labels = df_all.Sequence.tolist()\n",
    "synth = df_all.synth.tolist()\n",
    "lenght = df_all.length.tolist()\n",
    "pos = df_all.pos.tolist()\n",
    "neg = df_all.neg.tolist()\n",
    "hydr = df_all.hydr.tolist()\n",
    "size = df_all.islarger.tolist()"
   ]
  },
  {
   "cell_type": "code",
   "execution_count": 23,
   "metadata": {},
   "outputs": [
    {
     "data": {
      "text/html": [
       "<div>\n",
       "<style scoped>\n",
       "    .dataframe tbody tr th:only-of-type {\n",
       "        vertical-align: middle;\n",
       "    }\n",
       "\n",
       "    .dataframe tbody tr th {\n",
       "        vertical-align: top;\n",
       "    }\n",
       "\n",
       "    .dataframe thead th {\n",
       "        text-align: right;\n",
       "    }\n",
       "</style>\n",
       "<table border=\"1\" class=\"dataframe\">\n",
       "  <thead>\n",
       "    <tr style=\"text-align: right;\">\n",
       "      <th></th>\n",
       "      <th>ID</th>\n",
       "      <th>Sequence</th>\n",
       "      <th>prediction</th>\n",
       "      <th>length</th>\n",
       "      <th>dist_Training</th>\n",
       "      <th>NN_Training</th>\n",
       "      <th>dist_Test</th>\n",
       "      <th>NN_Test</th>\n",
       "      <th>map_dist_Training</th>\n",
       "      <th>map_NN_Training</th>\n",
       "      <th>...</th>\n",
       "      <th>SS</th>\n",
       "      <th>countH</th>\n",
       "      <th>fraction_PredBetaSheet</th>\n",
       "      <th>fraction_PredCoil</th>\n",
       "      <th>HeLa</th>\n",
       "      <th>synth</th>\n",
       "      <th>neg</th>\n",
       "      <th>pos</th>\n",
       "      <th>hydr</th>\n",
       "      <th>islarger</th>\n",
       "    </tr>\n",
       "  </thead>\n",
       "  <tbody>\n",
       "    <tr>\n",
       "      <th>0</th>\n",
       "      <td>gen_anticancer_91</td>\n",
       "      <td>LRFLGKVIKVLLKVL</td>\n",
       "      <td>0.998483</td>\n",
       "      <td>15</td>\n",
       "      <td>7</td>\n",
       "      <td>LKLLKKLLKKLLKLL</td>\n",
       "      <td>7</td>\n",
       "      <td>FLGALFKVASKVL</td>\n",
       "      <td>0.549805</td>\n",
       "      <td>FLGVLFKVLSKLL</td>\n",
       "      <td>...</td>\n",
       "      <td>NaN</td>\n",
       "      <td>NaN</td>\n",
       "      <td>NaN</td>\n",
       "      <td>NaN</td>\n",
       "      <td>NaN</td>\n",
       "      <td>0</td>\n",
       "      <td>0.0</td>\n",
       "      <td>0.266667</td>\n",
       "      <td>0.666667</td>\n",
       "      <td>0.5</td>\n",
       "    </tr>\n",
       "    <tr>\n",
       "      <th>1</th>\n",
       "      <td>gen_anticancer_318</td>\n",
       "      <td>KWWKKIKKLLRAFK</td>\n",
       "      <td>0.999596</td>\n",
       "      <td>14</td>\n",
       "      <td>6</td>\n",
       "      <td>IKKWWSKIKKLLK</td>\n",
       "      <td>6</td>\n",
       "      <td>KLWKKWKKWLK</td>\n",
       "      <td>0.473633</td>\n",
       "      <td>kFwKLLkKAlrLwKkVL</td>\n",
       "      <td>...</td>\n",
       "      <td>NaN</td>\n",
       "      <td>NaN</td>\n",
       "      <td>NaN</td>\n",
       "      <td>NaN</td>\n",
       "      <td>NaN</td>\n",
       "      <td>0</td>\n",
       "      <td>0.0</td>\n",
       "      <td>0.500000</td>\n",
       "      <td>0.500000</td>\n",
       "      <td>0.5</td>\n",
       "    </tr>\n",
       "    <tr>\n",
       "      <th>2</th>\n",
       "      <td>gen_anticancer_608</td>\n",
       "      <td>FFATIAKLLAGWFK</td>\n",
       "      <td>0.992423</td>\n",
       "      <td>14</td>\n",
       "      <td>6</td>\n",
       "      <td>FFPFVAKLLKGLF</td>\n",
       "      <td>7</td>\n",
       "      <td>FLPIIAKLLGGLL</td>\n",
       "      <td>0.583008</td>\n",
       "      <td>FFPIVAKLLRGLF</td>\n",
       "      <td>...</td>\n",
       "      <td>NaN</td>\n",
       "      <td>NaN</td>\n",
       "      <td>NaN</td>\n",
       "      <td>NaN</td>\n",
       "      <td>NaN</td>\n",
       "      <td>0</td>\n",
       "      <td>0.0</td>\n",
       "      <td>0.142857</td>\n",
       "      <td>0.714286</td>\n",
       "      <td>0.5</td>\n",
       "    </tr>\n",
       "    <tr>\n",
       "      <th>3</th>\n",
       "      <td>gen_anticancer_620</td>\n",
       "      <td>RWFKILKKIQRQW</td>\n",
       "      <td>0.996568</td>\n",
       "      <td>13</td>\n",
       "      <td>6</td>\n",
       "      <td>RWKIFKKVVKKW</td>\n",
       "      <td>6</td>\n",
       "      <td>RWKIFKKIEKVG</td>\n",
       "      <td>0.500977</td>\n",
       "      <td>RWFKIQLQIRRWKNKK</td>\n",
       "      <td>...</td>\n",
       "      <td>NaN</td>\n",
       "      <td>NaN</td>\n",
       "      <td>NaN</td>\n",
       "      <td>NaN</td>\n",
       "      <td>NaN</td>\n",
       "      <td>0</td>\n",
       "      <td>0.0</td>\n",
       "      <td>0.384615</td>\n",
       "      <td>0.461538</td>\n",
       "      <td>0.5</td>\n",
       "    </tr>\n",
       "    <tr>\n",
       "      <th>4</th>\n",
       "      <td>gen_anticancer_801</td>\n",
       "      <td>KWRKLLKRVARLVRA</td>\n",
       "      <td>0.997990</td>\n",
       "      <td>15</td>\n",
       "      <td>7</td>\n",
       "      <td>KWKIRVRLSA</td>\n",
       "      <td>7</td>\n",
       "      <td>KLKKLLKRWRRWWR</td>\n",
       "      <td>0.488281</td>\n",
       "      <td>KWRRKLKKLRPKKKRKV</td>\n",
       "      <td>...</td>\n",
       "      <td>NaN</td>\n",
       "      <td>NaN</td>\n",
       "      <td>NaN</td>\n",
       "      <td>NaN</td>\n",
       "      <td>NaN</td>\n",
       "      <td>0</td>\n",
       "      <td>0.0</td>\n",
       "      <td>0.466667</td>\n",
       "      <td>0.533333</td>\n",
       "      <td>0.5</td>\n",
       "    </tr>\n",
       "    <tr>\n",
       "      <th>...</th>\n",
       "      <td>...</td>\n",
       "      <td>...</td>\n",
       "      <td>...</td>\n",
       "      <td>...</td>\n",
       "      <td>...</td>\n",
       "      <td>...</td>\n",
       "      <td>...</td>\n",
       "      <td>...</td>\n",
       "      <td>...</td>\n",
       "      <td>...</td>\n",
       "      <td>...</td>\n",
       "      <td>...</td>\n",
       "      <td>...</td>\n",
       "      <td>...</td>\n",
       "      <td>...</td>\n",
       "      <td>...</td>\n",
       "      <td>...</td>\n",
       "      <td>...</td>\n",
       "      <td>...</td>\n",
       "      <td>...</td>\n",
       "      <td>...</td>\n",
       "    </tr>\n",
       "    <tr>\n",
       "      <th>48</th>\n",
       "      <td>10722</td>\n",
       "      <td>RLLRLLRLRRLLRL</td>\n",
       "      <td>0.918359</td>\n",
       "      <td>14</td>\n",
       "      <td>3</td>\n",
       "      <td>RLLRRLLRRLLR</td>\n",
       "      <td>0</td>\n",
       "      <td>RLLRLLRLRRLLRL</td>\n",
       "      <td>0.281250</td>\n",
       "      <td>LLRRLLRRLLRRLLRR</td>\n",
       "      <td>...</td>\n",
       "      <td>['C', 'H', 'H', 'H', 'H', 'H', 'H', 'H', 'H', ...</td>\n",
       "      <td>11.0</td>\n",
       "      <td>0.0</td>\n",
       "      <td>0.214286</td>\n",
       "      <td>True</td>\n",
       "      <td>0</td>\n",
       "      <td>0.0</td>\n",
       "      <td>0.428571</td>\n",
       "      <td>0.571429</td>\n",
       "      <td>0.5</td>\n",
       "    </tr>\n",
       "    <tr>\n",
       "      <th>49</th>\n",
       "      <td>10723</td>\n",
       "      <td>KLLKLLKKLLKLLK</td>\n",
       "      <td>0.948125</td>\n",
       "      <td>14</td>\n",
       "      <td>2</td>\n",
       "      <td>KLKKLLKKLKKLLK</td>\n",
       "      <td>0</td>\n",
       "      <td>KLLKLLKKLLKLLK</td>\n",
       "      <td>0.087891</td>\n",
       "      <td>KLKKLLKKLKKLLK</td>\n",
       "      <td>...</td>\n",
       "      <td>['C', 'H', 'H', 'H', 'H', 'H', 'H', 'H', 'H', ...</td>\n",
       "      <td>12.0</td>\n",
       "      <td>0.0</td>\n",
       "      <td>0.142857</td>\n",
       "      <td>True</td>\n",
       "      <td>0</td>\n",
       "      <td>0.0</td>\n",
       "      <td>0.428571</td>\n",
       "      <td>0.571429</td>\n",
       "      <td>0.5</td>\n",
       "    </tr>\n",
       "    <tr>\n",
       "      <th>50</th>\n",
       "      <td>12591</td>\n",
       "      <td>FKKLKKLFSKLWNWK</td>\n",
       "      <td>0.899559</td>\n",
       "      <td>15</td>\n",
       "      <td>2</td>\n",
       "      <td>FKRLKKLFSKIWNWK</td>\n",
       "      <td>0</td>\n",
       "      <td>FKKLKKLFSKLWNWK</td>\n",
       "      <td>0.224609</td>\n",
       "      <td>FKKLKKLFSKLKNWW</td>\n",
       "      <td>...</td>\n",
       "      <td>['C', 'H', 'H', 'H', 'H', 'H', 'H', 'H', 'H', ...</td>\n",
       "      <td>12.0</td>\n",
       "      <td>0.0</td>\n",
       "      <td>0.200000</td>\n",
       "      <td>True</td>\n",
       "      <td>0</td>\n",
       "      <td>0.0</td>\n",
       "      <td>0.400000</td>\n",
       "      <td>0.466667</td>\n",
       "      <td>0.5</td>\n",
       "    </tr>\n",
       "    <tr>\n",
       "      <th>51</th>\n",
       "      <td>12592</td>\n",
       "      <td>FKKLKKLFSKLWNWKRKKRRQRRR</td>\n",
       "      <td>0.524350</td>\n",
       "      <td>24</td>\n",
       "      <td>11</td>\n",
       "      <td>FKRLKKLFSKIWNWK</td>\n",
       "      <td>0</td>\n",
       "      <td>FKKLKKLFSKLWNWKRKKRRQRRR</td>\n",
       "      <td>0.529297</td>\n",
       "      <td>LKKLYKRLFKLWKRLYRYLKKPVR</td>\n",
       "      <td>...</td>\n",
       "      <td>['C', 'H', 'H', 'H', 'H', 'H', 'H', 'H', 'H', ...</td>\n",
       "      <td>22.0</td>\n",
       "      <td>0.0</td>\n",
       "      <td>0.083333</td>\n",
       "      <td>True</td>\n",
       "      <td>0</td>\n",
       "      <td>0.0</td>\n",
       "      <td>0.583333</td>\n",
       "      <td>0.291667</td>\n",
       "      <td>0.5</td>\n",
       "    </tr>\n",
       "    <tr>\n",
       "      <th>52</th>\n",
       "      <td>13330</td>\n",
       "      <td>FAKKFAKKFKKFAKKFAKFAFAF</td>\n",
       "      <td>0.962023</td>\n",
       "      <td>23</td>\n",
       "      <td>0</td>\n",
       "      <td>FAKKFAKKFKKFAKKFAKFAFAF</td>\n",
       "      <td>1</td>\n",
       "      <td>FAKKFAKKFKKFAKKFAFAFAF</td>\n",
       "      <td>0.000000</td>\n",
       "      <td>FAKKFAKKFKKFAKKFAKFAFAF</td>\n",
       "      <td>...</td>\n",
       "      <td>['C', 'H', 'H', 'H', 'H', 'H', 'H', 'H', 'H', ...</td>\n",
       "      <td>21.0</td>\n",
       "      <td>0.0</td>\n",
       "      <td>0.086957</td>\n",
       "      <td>True</td>\n",
       "      <td>0</td>\n",
       "      <td>0.0</td>\n",
       "      <td>0.391304</td>\n",
       "      <td>0.608696</td>\n",
       "      <td>0.5</td>\n",
       "    </tr>\n",
       "  </tbody>\n",
       "</table>\n",
       "<p>407 rows × 84 columns</p>\n",
       "</div>"
      ],
      "text/plain": [
       "                    ID                  Sequence  prediction  length  \\\n",
       "0    gen_anticancer_91           LRFLGKVIKVLLKVL    0.998483      15   \n",
       "1   gen_anticancer_318            KWWKKIKKLLRAFK    0.999596      14   \n",
       "2   gen_anticancer_608            FFATIAKLLAGWFK    0.992423      14   \n",
       "3   gen_anticancer_620             RWFKILKKIQRQW    0.996568      13   \n",
       "4   gen_anticancer_801           KWRKLLKRVARLVRA    0.997990      15   \n",
       "..                 ...                       ...         ...     ...   \n",
       "48               10722            RLLRLLRLRRLLRL    0.918359      14   \n",
       "49               10723            KLLKLLKKLLKLLK    0.948125      14   \n",
       "50               12591           FKKLKKLFSKLWNWK    0.899559      15   \n",
       "51               12592  FKKLKKLFSKLWNWKRKKRRQRRR    0.524350      24   \n",
       "52               13330   FAKKFAKKFKKFAKKFAKFAFAF    0.962023      23   \n",
       "\n",
       "    dist_Training              NN_Training  dist_Test  \\\n",
       "0               7          LKLLKKLLKKLLKLL          7   \n",
       "1               6            IKKWWSKIKKLLK          6   \n",
       "2               6            FFPFVAKLLKGLF          7   \n",
       "3               6             RWKIFKKVVKKW          6   \n",
       "4               7               KWKIRVRLSA          7   \n",
       "..            ...                      ...        ...   \n",
       "48              3             RLLRRLLRRLLR          0   \n",
       "49              2           KLKKLLKKLKKLLK          0   \n",
       "50              2          FKRLKKLFSKIWNWK          0   \n",
       "51             11          FKRLKKLFSKIWNWK          0   \n",
       "52              0  FAKKFAKKFKKFAKKFAKFAFAF          1   \n",
       "\n",
       "                     NN_Test  map_dist_Training           map_NN_Training  \\\n",
       "0              FLGALFKVASKVL           0.549805             FLGVLFKVLSKLL   \n",
       "1                KLWKKWKKWLK           0.473633         kFwKLLkKAlrLwKkVL   \n",
       "2              FLPIIAKLLGGLL           0.583008             FFPIVAKLLRGLF   \n",
       "3               RWKIFKKIEKVG           0.500977          RWFKIQLQIRRWKNKK   \n",
       "4             KLKKLLKRWRRWWR           0.488281         KWRRKLKKLRPKKKRKV   \n",
       "..                       ...                ...                       ...   \n",
       "48            RLLRLLRLRRLLRL           0.281250          LLRRLLRRLLRRLLRR   \n",
       "49            KLLKLLKKLLKLLK           0.087891            KLKKLLKKLKKLLK   \n",
       "50           FKKLKKLFSKLWNWK           0.224609           FKKLKKLFSKLKNWW   \n",
       "51  FKKLKKLFSKLWNWKRKKRRQRRR           0.529297  LKKLYKRLFKLWKRLYRYLKKPVR   \n",
       "52    FAKKFAKKFKKFAKKFAFAFAF           0.000000   FAKKFAKKFKKFAKKFAKFAFAF   \n",
       "\n",
       "    ...                                                 SS countH  \\\n",
       "0   ...                                                NaN    NaN   \n",
       "1   ...                                                NaN    NaN   \n",
       "2   ...                                                NaN    NaN   \n",
       "3   ...                                                NaN    NaN   \n",
       "4   ...                                                NaN    NaN   \n",
       "..  ...                                                ...    ...   \n",
       "48  ...  ['C', 'H', 'H', 'H', 'H', 'H', 'H', 'H', 'H', ...   11.0   \n",
       "49  ...  ['C', 'H', 'H', 'H', 'H', 'H', 'H', 'H', 'H', ...   12.0   \n",
       "50  ...  ['C', 'H', 'H', 'H', 'H', 'H', 'H', 'H', 'H', ...   12.0   \n",
       "51  ...  ['C', 'H', 'H', 'H', 'H', 'H', 'H', 'H', 'H', ...   22.0   \n",
       "52  ...  ['C', 'H', 'H', 'H', 'H', 'H', 'H', 'H', 'H', ...   21.0   \n",
       "\n",
       "    fraction_PredBetaSheet  fraction_PredCoil  HeLa synth  neg       pos  \\\n",
       "0                      NaN                NaN   NaN     0  0.0  0.266667   \n",
       "1                      NaN                NaN   NaN     0  0.0  0.500000   \n",
       "2                      NaN                NaN   NaN     0  0.0  0.142857   \n",
       "3                      NaN                NaN   NaN     0  0.0  0.384615   \n",
       "4                      NaN                NaN   NaN     0  0.0  0.466667   \n",
       "..                     ...                ...   ...   ...  ...       ...   \n",
       "48                     0.0           0.214286  True     0  0.0  0.428571   \n",
       "49                     0.0           0.142857  True     0  0.0  0.428571   \n",
       "50                     0.0           0.200000  True     0  0.0  0.400000   \n",
       "51                     0.0           0.083333  True     0  0.0  0.583333   \n",
       "52                     0.0           0.086957  True     0  0.0  0.391304   \n",
       "\n",
       "        hydr islarger  \n",
       "0   0.666667      0.5  \n",
       "1   0.500000      0.5  \n",
       "2   0.714286      0.5  \n",
       "3   0.461538      0.5  \n",
       "4   0.533333      0.5  \n",
       "..       ...      ...  \n",
       "48  0.571429      0.5  \n",
       "49  0.571429      0.5  \n",
       "50  0.466667      0.5  \n",
       "51  0.291667      0.5  \n",
       "52  0.608696      0.5  \n",
       "\n",
       "[407 rows x 84 columns]"
      ]
     },
     "execution_count": 23,
     "metadata": {},
     "output_type": "execute_result"
    }
   ],
   "source": [
    "df_all"
   ]
  },
  {
   "cell_type": "code",
   "execution_count": 24,
   "metadata": {},
   "outputs": [
    {
     "data": {
      "text/plain": [
       "\"['#0173b2', '#de8f05', '#029e73', '#d55e00', '#cc78bc', '#ca9161', '#fbafe4', '#949494', '#ece133', '#56b4e9']\""
      ]
     },
     "execution_count": 24,
     "metadata": {},
     "output_type": "execute_result"
    }
   ],
   "source": [
    "str(sns.color_palette(\"colorblind\").as_hex())\n"
   ]
  },
  {
   "cell_type": "code",
   "execution_count": 25,
   "metadata": {},
   "outputs": [
    {
     "data": {
      "text/html": [
       "<svg  width=\"550\" height=\"55\"><rect x=\"0\" y=\"0\" width=\"55\" height=\"55\" style=\"fill:#0173b2;stroke-width:2;stroke:rgb(255,255,255)\"/><rect x=\"55\" y=\"0\" width=\"55\" height=\"55\" style=\"fill:#de8f05;stroke-width:2;stroke:rgb(255,255,255)\"/><rect x=\"110\" y=\"0\" width=\"55\" height=\"55\" style=\"fill:#029e73;stroke-width:2;stroke:rgb(255,255,255)\"/><rect x=\"165\" y=\"0\" width=\"55\" height=\"55\" style=\"fill:#d55e00;stroke-width:2;stroke:rgb(255,255,255)\"/><rect x=\"220\" y=\"0\" width=\"55\" height=\"55\" style=\"fill:#cc78bc;stroke-width:2;stroke:rgb(255,255,255)\"/><rect x=\"275\" y=\"0\" width=\"55\" height=\"55\" style=\"fill:#ca9161;stroke-width:2;stroke:rgb(255,255,255)\"/><rect x=\"330\" y=\"0\" width=\"55\" height=\"55\" style=\"fill:#fbafe4;stroke-width:2;stroke:rgb(255,255,255)\"/><rect x=\"385\" y=\"0\" width=\"55\" height=\"55\" style=\"fill:#949494;stroke-width:2;stroke:rgb(255,255,255)\"/><rect x=\"440\" y=\"0\" width=\"55\" height=\"55\" style=\"fill:#ece133;stroke-width:2;stroke:rgb(255,255,255)\"/><rect x=\"495\" y=\"0\" width=\"55\" height=\"55\" style=\"fill:#56b4e9;stroke-width:2;stroke:rgb(255,255,255)\"/></svg>"
      ],
      "text/plain": [
       "['#0173b2',\n",
       " '#de8f05',\n",
       " '#029e73',\n",
       " '#d55e00',\n",
       " '#cc78bc',\n",
       " '#ca9161',\n",
       " '#fbafe4',\n",
       " '#949494',\n",
       " '#ece133',\n",
       " '#56b4e9']"
      ]
     },
     "execution_count": 25,
     "metadata": {},
     "output_type": "execute_result"
    }
   ],
   "source": [
    "sns.color_palette(\"colorblind\").as_hex()"
   ]
  },
  {
   "cell_type": "code",
   "execution_count": 26,
   "metadata": {},
   "outputs": [],
   "source": [
    "from matplotlib.colors import ListedColormap\n",
    "from faerun import Faerun\n",
    "\n",
    "custom_cmap = ListedColormap([ \"#cc78bc\", \"#029e73\", \"#d55e00\"], name=\"custom\")\n",
    "custom_cmap2 = ListedColormap([ \"#949494\", \"#d55e00\"], name=\"custom2\")\n",
    "\n",
    "groups = [\"0-First approach (202)\", \"1-Second approach (152)\", \"2-Fine-tuning set (53)\"]\n",
    "labels_groups, groups = Faerun.create_categories(groups)\n",
    "\n",
    "groups2 = [\"0-no\", \"1-yes\"]\n",
    "labels_groups2, groups2 = Faerun.create_categories(groups2)"
   ]
  },
  {
   "cell_type": "code",
   "execution_count": 27,
   "metadata": {},
   "outputs": [
    {
     "data": {
      "text/html": [
       "\n",
       "        <iframe\n",
       "            width=\"100%\"\n",
       "            height=\"500\"\n",
       "            src=\"./MAP4_PDGA_anticancer.html\"\n",
       "            frameborder=\"0\"\n",
       "            allowfullscreen\n",
       "        ></iframe>\n",
       "        "
      ],
      "text/plain": [
       "<IPython.lib.display.IFrame at 0x7f633bdfab38>"
      ]
     },
     "metadata": {},
     "output_type": "display_data"
    },
    {
     "data": {
      "text/html": [
       "<a href='./MAP4_PDGA_anticancer.html' target='_blank'>./MAP4_PDGA_anticancer.html</a><br>"
      ],
      "text/plain": [
       "/home/alice/Code/Anticancers/MAP4_PDGA_anticancer.html"
      ]
     },
     "metadata": {},
     "output_type": "display_data"
    }
   ],
   "source": [
    "faerun = Faerun(view=\"front\", coords=False, title='MAP4_PDGA_anticancer', clear_color=\"#ffffff\",)\n",
    "faerun.add_scatter(\"MAP4_PDGA_anticancer\",\\\n",
    "                   {\"x\": tm.VectorFloat(tm_layout[\"x\"]), \\\n",
    "                        \"y\": tm.VectorFloat(tm_layout[\"y\"]), \\\n",
    "                        \"c\": [lenght, pos, hydr, set_, synth],\\\n",
    "                        \"labels\": labels,\n",
    "                   \"s\": size}, \\\n",
    "                    has_legend=True, \\\n",
    "                    colormap=[\"viridis\",\"viridis\", \"viridis\", custom_cmap, custom_cmap2], \\\n",
    "                    point_scale=15, \\\n",
    "                    categorical=[False, False, False, True, True],\\\n",
    "                    series_title=[\"sequence length\", \"fract. positive residues (K, R)\", \"fract. hydrophobic residues (A, V, L, I, F, M, W, C)\", \"set\", \"is synthesized\"], \\\n",
    "                    max_legend_label=[str(round(max(lenght),2)), str(round(max(pos),2)), str(round(max(hydr),2)), None, None],\\\n",
    "                    min_legend_label=[str(round(min(lenght),2)), str(round(min(pos),2)), str(round(min(hydr),2)), None, None],\\\n",
    "                    legend_labels=[None, None, None, labels_groups, labels_groups2])\n",
    "\n",
    "faerun.add_tree(\"MAP4_PDGA_anticancer_tree\", {\"from\": tm.VectorUint(tm_layout[\"s\"]), \"to\": tm.VectorUint(tm_layout[\"t\"])}, point_helper=\"MAP4_PDGA_anticancer\", color=\"aaaaaa\")\n",
    "faerun.plot('MAP4_PDGA_anticancer')"
   ]
  },
  {
   "cell_type": "code",
   "execution_count": 28,
   "metadata": {},
   "outputs": [],
   "source": [
    "def distance(a, b):\n",
    "    \"\"\"Estimates the Jaccard distance of two binary arrays based on their hashes.\n",
    "\n",
    "Arguments:\n",
    "  a {numpy.ndarray} -- An array containing hash values.\n",
    "  b {numpy.ndarray} -- An array containing hash values.\n",
    "\n",
    "Returns:\n",
    "  float -- The estimated Jaccard distance.\n",
    "\"\"\"\n",
    "\n",
    "    # The Jaccard distance of Minhashed values is estimated by\n",
    "    return 1.0 - np.float(np.count_nonzero(a == b)) / np.float(len(a))\n",
    "\n",
    "def find_map_seqNN(fp, dataframe):\n",
    "    best_dist = float(\"inf\")\n",
    "    dists = dataframe[\"MAP4\"].map(lambda fp2 : distance(fp,fp2))\n",
    "    NNi = np.argmin(dists)\n",
    "    best_dist = dists.iloc[NNi]\n",
    "    NN = dataframe[\"Sequence\"].iloc[NNi]\n",
    "    return best_dist, NN"
   ]
  },
  {
   "cell_type": "code",
   "execution_count": 29,
   "metadata": {},
   "outputs": [
    {
     "data": {
      "text/plain": [
       "Index(['Sequence', 'Repetition', 'inTraining', 'Set', 'prediction',\n",
       "       'isPredActive', 'ID', 'dist_Training', 'NN_Training', 'dist_Test',\n",
       "       'NN_Test', 'SMILES', 'MAP4', 'length', 'D_AA', 'A_fract', 'C_fract',\n",
       "       'D_fract', 'E_fract', 'F_fract', 'G_fract', 'H_fract', 'I_fract',\n",
       "       'L_fract', 'M_fract', 'N_fract', 'P_fract', 'K_fract', 'Q_fract',\n",
       "       'R_fract', 'S_fract', 'T_fract', 'V_fract', 'W_fract', 'Y_fract',\n",
       "       'positive', 'negative', 'HAC', 'HBA', 'HBD', 'hydrophobic',\n",
       "       'hydrophobic_patches', 'hydrophobic_patches_num',\n",
       "       'hydrophobic_patches_len', 'hydro_res_fract', 'pos_res_fract',\n",
       "       'HydroMoment', 'charge', 'hydrophobicity', 'av_hydrophobicity',\n",
       "       'discrimination', 'fasta', 'SpiderFilename', 'SpiderFileloc',\n",
       "       'map_dist_Training', 'map_NN_Training', 'map_dist_Test', 'map_NN_Test',\n",
       "       'SS', 'countH', 'fraction_PredHelical', 'fraction_PredBetaSheet',\n",
       "       'fraction_PredCoil'],\n",
       "      dtype='object')"
      ]
     },
     "execution_count": 29,
     "metadata": {},
     "output_type": "execute_result"
    }
   ],
   "source": [
    "evaluation_1.columns"
   ]
  },
  {
   "cell_type": "code",
   "execution_count": 30,
   "metadata": {},
   "outputs": [
    {
     "data": {
      "image/png": "[encoded data removed]",
      "text/plain": [
       "<Figure size 432x288 with 1 Axes>"
      ]
     },
     "metadata": {
      "needs_background": "light"
     },
     "output_type": "display_data"
    }
   ],
   "source": [
    "evaluation_1.dist_Training.plot.kde(label=\"11,458 first approach\", c=\"#cc78bc\")\n",
    "plt.axvline(x=5, c=\"black\", linestyle=\"--\", linewidth=1, alpha=0.5)\n",
    "plt.axvline(x=8, c=\"black\", linestyle=\"--\", linewidth=1, alpha=0.5)\n",
    "plt.xlabel(\"minLD from classifier training set\")\n",
    "plt.legend()\n",
    "plt.xlim(0, 30)\n",
    "sns.despine()\n",
    "plt.tight_layout()\n",
    "plt.savefig(\"plots/LD_traiing_1.svg\")"
   ]
  },
  {
   "cell_type": "code",
   "execution_count": 31,
   "metadata": {},
   "outputs": [
    {
     "data": {
      "image/png": "[encoded data removed]",
      "text/plain": [
       "<Figure size 432x288 with 1 Axes>"
      ]
     },
     "metadata": {
      "needs_background": "light"
     },
     "output_type": "display_data"
    }
   ],
   "source": [
    "evaluation_1.dist_Test.plot.kde(label=\"11,458 first approach\", c=\"#cc78bc\")\n",
    "plt.axvline(x=4, c=\"black\", linestyle=\"--\", linewidth=1, alpha=0.5)\n",
    "plt.xlabel(\"minLD from classifier test set\")\n",
    "plt.legend()\n",
    "plt.xlim(0, 30)\n",
    "sns.despine()\n",
    "plt.tight_layout()\n",
    "plt.savefig(\"plots/LD_test_1.svg\")"
   ]
  },
  {
   "cell_type": "code",
   "execution_count": 32,
   "metadata": {},
   "outputs": [
    {
     "data": {
      "image/png": "[encoded data removed]",
      "text/plain": [
       "<Figure size 432x288 with 1 Axes>"
      ]
     },
     "metadata": {
      "needs_background": "light"
     },
     "output_type": "display_data"
    }
   ],
   "source": [
    "evaluation_1.length.plot.kde(label=\"11,458 first approach\", c=\"#cc78bc\")\n",
    "plt.axvline(x=15, c=\"black\", linestyle=\"--\", linewidth=1, alpha=0.5)\n",
    "plt.xlabel(\"Length\")\n",
    "plt.legend()\n",
    "plt.xlim(0, 100)\n",
    "sns.despine()\n",
    "plt.tight_layout()\n",
    "plt.savefig(\"plots/len_1.svg\")"
   ]
  },
  {
   "cell_type": "code",
   "execution_count": 33,
   "metadata": {},
   "outputs": [
    {
     "data": {
      "image/png": "[encoded data removed]",
      "text/plain": [
       "<Figure size 432x288 with 1 Axes>"
      ]
     },
     "metadata": {
      "needs_background": "light"
     },
     "output_type": "display_data"
    }
   ],
   "source": [
    "evaluation_1.HydroMoment.plot.kde(label=\"11,458 first approach\", c=\"#cc78bc\")\n",
    "plt.axvline(x=0.3, c=\"black\", linestyle=\"--\", linewidth=1, alpha=0.5)\n",
    "plt.xlabel(\"Hydrophobic moment\")\n",
    "plt.legend()\n",
    "plt.xlim(0, 1)\n",
    "sns.despine()\n",
    "plt.tight_layout()\n",
    "plt.savefig(\"plots/hydr_mom_1.svg\")"
   ]
  },
  {
   "cell_type": "code",
   "execution_count": 34,
   "metadata": {},
   "outputs": [
    {
     "data": {
      "image/png": "[encoded data removed]",
      "text/plain": [
       "<Figure size 432x288 with 1 Axes>"
      ]
     },
     "metadata": {
      "needs_background": "light"
     },
     "output_type": "display_data"
    }
   ],
   "source": [
    "evaluation_1.fraction_PredHelical.plot.kde(label=\"11,458 first approach\", c=\"#cc78bc\")\n",
    "plt.axvline(x=0.8, c=\"black\", linestyle=\"--\", linewidth=1, alpha=0.5)\n",
    "plt.xlabel(\"Fraction of predicted helical\")\n",
    "plt.legend()\n",
    "plt.xlim(0, 1)\n",
    "sns.despine()\n",
    "plt.tight_layout()\n",
    "plt.savefig(\"plots/frc_alpha_1.svg\")"
   ]
  },
  {
   "cell_type": "code",
   "execution_count": 35,
   "metadata": {},
   "outputs": [
    {
     "data": {
      "image/png": "[encoded data removed]",
      "text/plain": [
       "<Figure size 432x288 with 1 Axes>"
      ]
     },
     "metadata": {
      "needs_background": "light"
     },
     "output_type": "display_data"
    }
   ],
   "source": [
    "evaluation_2.dist_Training.plot.kde(label=\"6,300 second approach\", c=\"#029e73\")\n",
    "plt.axvline(x=5, c=\"black\", linestyle=\"--\", linewidth=1, alpha=0.5)\n",
    "plt.axvline(x=8, c=\"black\", linestyle=\"--\", linewidth=1, alpha=0.5)\n",
    "plt.xlabel(\"minLD from classifiers training set\")\n",
    "plt.legend()\n",
    "plt.xlim(0, 14)\n",
    "sns.despine()\n",
    "plt.tight_layout()\n",
    "plt.savefig(\"plots/ld_TRAINING_2.svg\")"
   ]
  },
  {
   "cell_type": "code",
   "execution_count": 36,
   "metadata": {},
   "outputs": [
    {
     "data": {
      "image/png": "[encoded data removed]",
      "text/plain": [
       "<Figure size 432x288 with 1 Axes>"
      ]
     },
     "metadata": {
      "needs_background": "light"
     },
     "output_type": "display_data"
    }
   ],
   "source": [
    "evaluation_2.dist_Test.plot.kde(label=\"6,300 second approach\", c=\"#029e73\")\n",
    "plt.axvline(x=4, c=\"black\", linestyle=\"--\", linewidth=1, alpha=0.5)\n",
    "plt.xlabel(\"minLD from classifiers test set\")\n",
    "plt.legend()\n",
    "plt.xlim(0, 14)\n",
    "sns.despine()\n",
    "plt.tight_layout()\n",
    "plt.savefig(\"plots/LD_test_2.svg\")"
   ]
  },
  {
   "cell_type": "code",
   "execution_count": 37,
   "metadata": {},
   "outputs": [
    {
     "data": {
      "image/png": "[encoded data removed]",
      "text/plain": [
       "<Figure size 432x288 with 1 Axes>"
      ]
     },
     "metadata": {
      "needs_background": "light"
     },
     "output_type": "display_data"
    }
   ],
   "source": [
    "evaluation_2.length.plot.kde(label=\"6,300 second approach\", c=\"#029e73\")\n",
    "plt.axvline(x=15, c=\"black\", linestyle=\"--\", linewidth=1, alpha=0.5)\n",
    "plt.xlabel(\"Length\")\n",
    "plt.legend()\n",
    "plt.xlim(5, 22)\n",
    "sns.despine()\n",
    "plt.tight_layout()\n",
    "plt.savefig(\"plots/len_2.svg\")"
   ]
  },
  {
   "cell_type": "code",
   "execution_count": 38,
   "metadata": {},
   "outputs": [
    {
     "data": {
      "image/png": "[encoded data removed]",
      "text/plain": [
       "<Figure size 432x288 with 1 Axes>"
      ]
     },
     "metadata": {
      "needs_background": "light"
     },
     "output_type": "display_data"
    }
   ],
   "source": [
    "evaluation_2.HydroMoment.plot.kde(label=\"6,300 second approach\", c=\"#029e73\")\n",
    "plt.axvline(x=0.3, c=\"black\", linestyle=\"--\", linewidth=1, alpha=0.5)\n",
    "plt.xlabel(\"Hydrophobic moment\")\n",
    "plt.legend()\n",
    "plt.xlim(0, 1)\n",
    "sns.despine()\n",
    "plt.tight_layout()\n",
    "plt.savefig(\"plots/hydro_mom_2.svg\")"
   ]
  },
  {
   "cell_type": "code",
   "execution_count": 39,
   "metadata": {},
   "outputs": [
    {
     "data": {
      "image/png": "[encoded data removed]",
      "text/plain": [
       "<Figure size 432x288 with 1 Axes>"
      ]
     },
     "metadata": {
      "needs_background": "light"
     },
     "output_type": "display_data"
    }
   ],
   "source": [
    "evaluation_2.fraction_PredHelical.plot.kde(label=\"6,300 second approach\", c=\"#029e73\")\n",
    "plt.axvline(x=0.8, c=\"black\", linestyle=\"--\", linewidth=1, alpha=0.5)\n",
    "plt.xlabel(\"Fraction of predicted helical\")\n",
    "plt.legend()\n",
    "plt.xlim(0, 1)\n",
    "sns.despine()\n",
    "plt.tight_layout()\n",
    "plt.savefig(\"plots/frc_alpha_2.svg\")"
   ]
  },
  {
   "cell_type": "code",
   "execution_count": 40,
   "metadata": {},
   "outputs": [
    {
     "data": {
      "image/png": "[encoded data removed]",
      "text/plain": [
       "<Figure size 360x360 with 1 Axes>"
      ]
     },
     "metadata": {
      "needs_background": "light"
     },
     "output_type": "display_data"
    }
   ],
   "source": [
    "import seaborn as sns\n",
    "\n",
    "g = sns.catplot(x=\"D_AA\", kind=\"count\", data=evaluation_1)\n",
    "#g.set_xticklabels(rotation=90)\n",
    "\n",
    "sns.despine()\n",
    "plt.tight_layout()\n",
    "plt.xlabel(\"Presence D amino acids\")\n",
    "plt.savefig(\"plots/daa_1.svg\")"
   ]
  },
  {
   "cell_type": "code",
   "execution_count": null,
   "metadata": {},
   "outputs": [],
   "source": []
  }
 ],
 "metadata": {
  "kernelspec": {
   "display_name": "Python 3",
   "language": "python",
   "name": "python3"
  },
  "language_info": {
   "codemirror_mode": {
    "name": "ipython",
    "version": 3
   },
   "file_extension": ".py",
   "mimetype": "text/x-python",
   "name": "python",
   "nbconvert_exporter": "python",
   "pygments_lexer": "ipython3",
   "version": "3.6.10"
  }
 },
 "nbformat": 4,
 "nbformat_minor": 4
}
