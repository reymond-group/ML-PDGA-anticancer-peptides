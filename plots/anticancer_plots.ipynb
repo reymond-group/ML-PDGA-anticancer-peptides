{
 "cells": [
  {
   "cell_type": "code",
   "execution_count": null,
   "metadata": {},
   "outputs": [],
   "source": [
    "from random import choice, randint\n",
    "import numpy as np\n",
    "import pandas as pd\n",
    "from pandarallel import pandarallel\n",
    "from tqdm import tqdm \n",
    "\n",
    "import matplotlib.pyplot as plt\n",
    "from matplotlib.colors import ListedColormap\n",
    "import seaborn as sns\n",
    "\n",
    "from models import Classifier\n",
    "\n",
    "from faerun import Faerun\n",
    "import tmap as tm\n",
    "\n",
    "from rdkit import Chem\n",
    "from map4 import MAP4Calculator\n",
    "\n",
    "tqdm.pandas()\n",
    "pandarallel.initialize(progress_bar=True)"
   ]
  },
  {
   "cell_type": "markdown",
   "metadata": {},
   "source": [
    "Define helper functions"
   ]
  },
  {
   "cell_type": "code",
   "execution_count": null,
   "metadata": {},
   "outputs": [],
   "source": [
    "def isNonNatural(seq:str) -> int: \n",
    "    \"\"\"\n",
    "    Determine if a sequence is composed of natural amino acids only or not. \n",
    "    \"\"\"\n",
    "    aa_list = ['a','v', 'i', 'l', 'm', 'f', 'y', 'w', 'r', 'h', 'k', 'd', 'e', 's', 't', 'n', 'q', 'c', 'g', 'p', 'x', 'X']\n",
    "    if any(aa in seq for aa in aa_list):\n",
    "        return 1\n",
    "    else:\n",
    "        return 0\n",
    "\n",
    "def isMultimer(seq:str) -> int:\n",
    "    \"\"\"\n",
    "    Determine if an entry from DBAASP is a multimer (e.g. KKKLLLLKKKLLL,KKKLLLLKKKLLL). \n",
    "    \"\"\"\n",
    "    if ',' in seq:\n",
    "        return 1\n",
    "    else:\n",
    "        return 0\n",
    "        \n",
    "def isActive(row:pd.DataFrame) -> str:\n",
    "    \"\"\"\n",
    "    Determine if an entry from DBAASP is active. The thresholds are given in μg/ml and can be adjusted. \n",
    "    Values lower than the threshold are regarded as active; values higher than the threshold are regarded as inactive.\n",
    "    \"\"\"\n",
    "    if row.Activity == 0:\n",
    "        return 'Active'\n",
    "    else:\n",
    "        if row.Activity <= 4:\n",
    "            return 'Active'\n",
    "        else:\n",
    "            return 'Inactive'\n",
    "\n",
    "def isNotHemolytic(row:pd.DataFrame) -> str:\n",
    "    \"\"\"\n",
    "    Determine if an entry from DBAASP is hemolytic. The thresholds are given in μg/ml and can be adjusted. \n",
    "    Values lower than the threshold are regarded as hemolytic; values higher than the threshold are regarded as non hemolytic.\n",
    "    \"\"\"\n",
    "    if row.Hemolysis == 0:\n",
    "        return 'Hemolytic'\n",
    "    else:\n",
    "        if row.Hemolysis >= 200:\n",
    "            return 'Not Hemolytic'\n",
    "        else:\n",
    "            return 'Hemolytic'\n",
    "\n",
    "def Length(seq:str) -> int:\n",
    "    \"\"\"\n",
    "    Determine length of a sequence\n",
    "    \"\"\"\n",
    "    return len(seq)\n",
    "\n",
    "\n",
    "def RemoveSpace(seq:str) -> str:\n",
    "    \"\"\"\n",
    "    Remove spaces from sequences (e.g.' KKKLLL' --> 'KKKLLL')\n",
    "    \"\"\"\n",
    "    return seq.replace(' ', '')\n",
    "\n",
    "\n",
    "def RangeRandomSequence(AA_list:list, min_length:int, max_length:int) -> str:\n",
    "    \"\"\"\n",
    "    Generates a random sequence starting from an input amino acid list (AA_list) with sequence length between min_length and max_length.\n",
    "    \"\"\"\n",
    "    sequence = ''\n",
    "    length = randint(min_length, max_length)\n",
    "    for aa in range(length):\n",
    "        sequence += choice(AA_list)\n",
    "    return sequence\n",
    "\n",
    "\n",
    "def AnalyzeComposition(seq_list:list) -> np.ndarray:\n",
    "    \"\"\"\n",
    "    Returns array with counts of each amino acid.\n",
    "    \"\"\"\n",
    "    AA_list = ['A','V', 'I', 'L', 'M', 'F', 'Y', 'W', 'R', 'H', 'K', 'D', 'E', 'S', 'T', 'N', 'Q', 'C', 'G', 'P']\n",
    "    aa_counts = np.zeros(len(AA_list))\n",
    "\n",
    "    for idx, aa in enumerate(AA_list):\n",
    "        for seq in seq_list:\n",
    "            aa_counts[idx] = aa_counts[idx] + seq.count(aa)\n",
    "    return aa_counts\n",
    "\n",
    "\n",
    "def AnalyzeCompositionFraction(seq_list:list) -> np.ndarray:\n",
    "    \"\"\"\n",
    "    Returns array with mean fraction of each amino acid and standard deviation.\n",
    "    \"\"\"\n",
    "    AA_list = ['A','V', 'I', 'L', 'M', 'F', 'Y', 'W', 'R', 'H', 'K', 'D', 'E', 'S', 'T', 'N', 'Q', 'C', 'G', 'P']\n",
    "    fracs_aa = np.zeros(len(seq_list))\n",
    "    fracs_mean = np.zeros(len(AA_list))\n",
    "    fracs_std = np.zeros(len(AA_list))\n",
    "\n",
    "    for i, aa in enumerate(AA_list):\n",
    "        for j, seq in enumerate(seq_list):\n",
    "            fracs_aa[j] = seq.count(aa)/len(seq)\n",
    "        fracs_mean[i] = np.mean(fracs_aa)\n",
    "        fracs_std[i] = np.std(fracs_aa)\n",
    "    return fracs_mean, fracs_std"
   ]
  },
  {
   "cell_type": "markdown",
   "metadata": {},
   "source": [
    "#### Import all the sets: DBAASP, RNN selection, PDGA selection and generate a set of random peptides"
   ]
  },
  {
   "cell_type": "markdown",
   "metadata": {},
   "source": [
    "Import entire DBAASP and keep calculated activity (μg/ml) and hemolysis (μg/ml) columns"
   ]
  },
  {
   "cell_type": "code",
   "execution_count": null,
   "metadata": {},
   "outputs": [],
   "source": [
    "dbaasp_complete = pd.read_csv('data/peptides-complete.csv', low_memory=False)\n",
    "dbaasp_complete = dbaasp_complete[[\n",
    "    'ID', \n",
    "    'SEQUENCE', \n",
    "    'TARGET ACTIVITY - ACTIVITY (μg/ml) (Calculated By DBAASP)', \n",
    "    'HEMOLITIC CYTOTOXIC ACTIVITY - ACTIVITY (μg/ml) (Calculated By DBAASP)'\n",
    "    ]]\n",
    "\n",
    "dbaasp_complete = dbaasp_complete.rename(columns={\n",
    "    'SEQUENCE': 'Sequence', \n",
    "    'TARGET ACTIVITY - ACTIVITY (μg/ml) (Calculated By DBAASP)': 'Activity', \n",
    "    'HEMOLITIC CYTOTOXIC ACTIVITY - ACTIVITY (μg/ml) (Calculated By DBAASP)': 'Hemolysis',\n",
    "    })"
   ]
  },
  {
   "cell_type": "markdown",
   "metadata": {},
   "source": [
    "Clean up DBAASP"
   ]
  },
  {
   "cell_type": "code",
   "execution_count": null,
   "metadata": {},
   "outputs": [],
   "source": [
    "dbaasp = dbaasp_complete[['ID', 'Sequence']].dropna(subset=['Sequence'])\n",
    "dbaasp['isMultimer'] = dbaasp.Sequence.apply(isMultimer)\n",
    "dbaasp = dbaasp[dbaasp['isMultimer'] == 0]\n",
    "dbaasp = dbaasp.drop_duplicates(subset=['ID', 'Sequence'])\n",
    "dbaasp['Sequence'] = dbaasp.Sequence.apply(RemoveSpace)\n",
    "dbaasp['isNonNatural'] = dbaasp.Sequence.apply(isNonNatural)\n",
    "dbaasp = dbaasp[dbaasp['isNonNatural'] == 0]\n",
    "dbaasp = dbaasp.sort_values(by='ID')\n",
    "dbaasp = dbaasp[['ID', 'Sequence']]\n",
    "dbaasp['Length'] = dbaasp.Sequence.apply(Length)\n",
    "dbaasp = dbaasp[dbaasp['Length'] >= 5]\n",
    "dbaasp = dbaasp.reset_index(drop=True)\n",
    "dbaasp['Set'] = 'DBAASP'\n",
    "dbaasp = dbaasp[['Sequence', 'Set', 'Length']]\n",
    "dbaasp = dbaasp.drop_duplicates(subset=['Sequence']).copy()"
   ]
  },
  {
   "cell_type": "markdown",
   "metadata": {},
   "source": [
    "DBAASP: bar plot of total amino acid counts"
   ]
  },
  {
   "cell_type": "code",
   "execution_count": null,
   "metadata": {},
   "outputs": [],
   "source": [
    "dbaasp_seq_list = dbaasp.Sequence.values.tolist()\n",
    "dbaasp_aa_counts = AnalyzeComposition(dbaasp_seq_list)\n",
    "aa_labels = ['A','V', 'I', 'L', 'M', 'F', 'Y', 'W', 'R', 'H', 'K', 'D', 'E', 'S', 'T', 'N', 'Q', 'C', 'G', 'P']\n",
    "\n",
    "plt.bar(aa_labels, dbaasp_aa_counts)\n",
    "plt.savefig('plots/barplots/dbaasp_aa_distribution.pdf')"
   ]
  },
  {
   "cell_type": "markdown",
   "metadata": {},
   "source": [
    "DBAASP: mean fractions and standard deviations of each amino acid"
   ]
  },
  {
   "cell_type": "code",
   "execution_count": null,
   "metadata": {},
   "outputs": [],
   "source": [
    "aa_labels = ['A','V', 'I', 'L', 'M', 'F', 'Y', 'W', 'R', 'H', 'K', 'D', 'E', 'S', 'T', 'N', 'Q', 'C', 'G', 'P']\n",
    "x_pos = np.arange(len(aa_labels))\n",
    "dbaasp_mean, dbaasp_std = AnalyzeCompositionFraction(dbaasp_seq_list)\n",
    "\n",
    "fig, ax = plt.subplots()\n",
    "ax.errorbar(x_pos, dbaasp_mean, yerr=dbaasp_std, fmt='o', color='black', capsize=5)\n",
    "ax.set_xticks(x_pos)\n",
    "ax.set_xticklabels(aa_labels)\n",
    "ax.set_ylim(ymin=0)\n",
    "\n",
    "plt.savefig('plots/barplots/dbaasp_aafraction_distribution_stdev.pdf')"
   ]
  },
  {
   "cell_type": "markdown",
   "metadata": {},
   "source": [
    "Select DBAASP actives and keep the highest activity. Split into actives and inactives according to thresholds defined in the helper function."
   ]
  },
  {
   "cell_type": "code",
   "execution_count": null,
   "metadata": {},
   "outputs": [],
   "source": [
    "dbaasp_activity = dbaasp_complete.dropna(subset=['Activity'])\n",
    "dbaasp_activity = dbaasp_activity.sort_values(by='Activity')\n",
    "dbaasp_activity['isMultimer'] = dbaasp_activity.Sequence.apply(isMultimer)\n",
    "dbaasp_activity = dbaasp_activity[dbaasp_activity['isMultimer'] == 0]\n",
    "dbaasp_activity = dbaasp_activity.drop_duplicates(subset=['ID', 'Sequence'])\n",
    "dbaasp_activity['Sequence'] = dbaasp_activity.Sequence.apply(RemoveSpace)\n",
    "dbaasp_activity['isNonNatural'] = dbaasp_activity.Sequence.apply(isNonNatural)\n",
    "dbaasp_activity = dbaasp_activity[dbaasp_activity['isNonNatural'] == 0]\n",
    "dbaasp_activity = dbaasp_activity.sort_values(by='ID')\n",
    "dbaasp_activity = dbaasp_activity[['ID', 'Sequence', 'Activity']]\n",
    "dbaasp_activity['isActive'] = dbaasp_activity.apply(isActive, axis=1)\n",
    "dbaasp_activity['Length'] = dbaasp_activity.Sequence.apply(Length)\n",
    "dbaasp_activity = dbaasp_activity[dbaasp_activity['Length'] >= 5]\n",
    "dbaasp_activity = dbaasp_activity.reset_index(drop=True)"
   ]
  },
  {
   "cell_type": "markdown",
   "metadata": {},
   "source": [
    "DBAASP actives"
   ]
  },
  {
   "cell_type": "code",
   "execution_count": null,
   "metadata": {},
   "outputs": [],
   "source": [
    "dbaasp_actives = dbaasp_activity[dbaasp_activity['isActive'] == 'Active'].copy()\n",
    "dbaasp_actives['Set'] = 'Active'\n",
    "dbaasp_actives = dbaasp_actives[['Sequence', 'Set', 'Length']]"
   ]
  },
  {
   "cell_type": "markdown",
   "metadata": {},
   "source": [
    "DBAASP actives: bar plot of total amino acid counts"
   ]
  },
  {
   "cell_type": "code",
   "execution_count": null,
   "metadata": {},
   "outputs": [],
   "source": [
    "actives_seq_list = dbaasp_actives.Sequence.values.tolist()\n",
    "actives_aa_counts = AnalyzeComposition(actives_seq_list)\n",
    "aa_labels = ['A','V', 'I', 'L', 'M', 'F', 'Y', 'W', 'R', 'H', 'K', 'D', 'E', 'S', 'T', 'N', 'Q', 'C', 'G', 'P']\n",
    "\n",
    "plt.bar(aa_labels, actives_aa_counts)\n",
    "plt.savefig('plots/barplots/actives_aa_distribution.pdf')"
   ]
  },
  {
   "cell_type": "markdown",
   "metadata": {},
   "source": [
    "DBAASP actives: mean fractions and standard deviations of each amino acid"
   ]
  },
  {
   "cell_type": "code",
   "execution_count": null,
   "metadata": {},
   "outputs": [],
   "source": [
    "aa_labels = ['A','V', 'I', 'L', 'M', 'F', 'Y', 'W', 'R', 'H', 'K', 'D', 'E', 'S', 'T', 'N', 'Q', 'C', 'G', 'P']\n",
    "x_pos = np.arange(len(aa_labels))\n",
    "actives_mean, actives_std = AnalyzeCompositionFraction(actives_seq_list)\n",
    "\n",
    "fig, ax = plt.subplots()\n",
    "ax.errorbar(x_pos, actives_mean, yerr=actives_std, fmt='o', color='black', capsize=5)\n",
    "ax.set_xticks(x_pos)\n",
    "ax.set_xticklabels(aa_labels)\n",
    "ax.set_ylim(ymin=0)\n",
    "\n",
    "plt.savefig('plots/barplots/actives_aafraction_distribution_stdev.pdf')"
   ]
  },
  {
   "cell_type": "markdown",
   "metadata": {},
   "source": [
    "DBAASP inactives"
   ]
  },
  {
   "cell_type": "code",
   "execution_count": null,
   "metadata": {},
   "outputs": [],
   "source": [
    "dbaasp_inactives = dbaasp_activity[dbaasp_activity['isActive'] == 'Inactive'].copy()\n",
    "dbaasp_inactives['Set'] = 'Inactive'\n",
    "dbaasp_inactives = dbaasp_inactives[['Sequence', 'Set', 'Length']]"
   ]
  },
  {
   "cell_type": "markdown",
   "metadata": {},
   "source": [
    "DBAASP inactives: bar plot of total amino acid counts"
   ]
  },
  {
   "cell_type": "code",
   "execution_count": null,
   "metadata": {},
   "outputs": [],
   "source": [
    "inactives_seq_list = dbaasp_inactives.Sequence.values.tolist()\n",
    "inactives_aa_counts = AnalyzeComposition(inactives_seq_list)\n",
    "aa_labels = ['A','V', 'I', 'L', 'M', 'F', 'Y', 'W', 'R', 'H', 'K', 'D', 'E', 'S', 'T', 'N', 'Q', 'C', 'G', 'P']\n",
    "\n",
    "plt.bar(aa_labels, inactives_aa_counts)\n",
    "plt.savefig('plots/barplots/inactives_aa_distribution.pdf')"
   ]
  },
  {
   "cell_type": "markdown",
   "metadata": {},
   "source": [
    "DBAASP inactives: mean fractions and standard deviations of each amino acid"
   ]
  },
  {
   "cell_type": "code",
   "execution_count": null,
   "metadata": {},
   "outputs": [],
   "source": [
    "aa_labels = ['A','V', 'I', 'L', 'M', 'F', 'Y', 'W', 'R', 'H', 'K', 'D', 'E', 'S', 'T', 'N', 'Q', 'C', 'G', 'P']\n",
    "x_pos = np.arange(len(aa_labels))\n",
    "inactives_mean, inactives_std = AnalyzeCompositionFraction(inactives_seq_list)\n",
    "\n",
    "fig, ax = plt.subplots()\n",
    "ax.errorbar(x_pos, inactives_mean, yerr=inactives_std, fmt='o', color='black', capsize=5)\n",
    "ax.set_xticks(x_pos)\n",
    "ax.set_xticklabels(aa_labels)\n",
    "ax.set_ylim(ymin=0)\n",
    "\n",
    "plt.savefig('plots/barplots/inactives_aafraction_distribution_stdev.pdf')"
   ]
  },
  {
   "cell_type": "markdown",
   "metadata": {},
   "source": [
    "Select DBAASP hemolytics and keep the least hemolytic. Split into hemolytic and non hemolytic according to threshold defined in the helper function above."
   ]
  },
  {
   "cell_type": "code",
   "execution_count": null,
   "metadata": {},
   "outputs": [],
   "source": [
    "dbaasp_hemolysis = dbaasp_complete.dropna(subset=['Hemolysis'])\n",
    "dbaasp_hemolysis = dbaasp_hemolysis.sort_values(by='Hemolysis')\n",
    "dbaasp_hemolysis['isMultimer'] = dbaasp_hemolysis.Sequence.apply(isMultimer)\n",
    "dbaasp_hemolysis = dbaasp_hemolysis[dbaasp_hemolysis['isMultimer'] == 0]\n",
    "dbaasp_hemolysis = dbaasp_hemolysis.drop_duplicates(subset=['ID', 'Sequence'])\n",
    "dbaasp_hemolysis['Sequence'] = dbaasp_hemolysis.Sequence.apply(RemoveSpace)\n",
    "dbaasp_hemolysis['isNonNatural'] = dbaasp_hemolysis.Sequence.apply(isNonNatural)\n",
    "dbaasp_hemolysis = dbaasp_hemolysis[dbaasp_hemolysis['isNonNatural'] == 0]\n",
    "dbaasp_hemolysis = dbaasp_hemolysis.sort_values(by='ID')\n",
    "dbaasp_hemolysis = dbaasp_hemolysis[['ID', 'Sequence', 'Hemolysis']]\n",
    "dbaasp_hemolysis['isNotHemolytic'] = dbaasp_hemolysis.apply(isNotHemolytic, axis=1)\n",
    "dbaasp_hemolysis['Length'] = dbaasp_hemolysis.Sequence.apply(Length)\n",
    "dbaasp_hemolysis = dbaasp_hemolysis[dbaasp_hemolysis['Length'] >= 5]\n",
    "dbaasp_hemolysis = dbaasp_hemolysis.reset_index(drop=True)"
   ]
  },
  {
   "cell_type": "markdown",
   "metadata": {},
   "source": [
    "DBAASP hemolytic"
   ]
  },
  {
   "cell_type": "code",
   "execution_count": null,
   "metadata": {},
   "outputs": [],
   "source": [
    "dbaasp_hemolytic = dbaasp_hemolysis[dbaasp_hemolysis['isNotHemolytic'] == 'Hemolytic'].copy()\n",
    "dbaasp_hemolytic['Set'] = 'Hemolytic'\n",
    "dbaasp_hemolytic = dbaasp_hemolytic[['Sequence', 'Set', 'Length']]"
   ]
  },
  {
   "cell_type": "markdown",
   "metadata": {},
   "source": [
    "DBAASP hemolytic: bar plot of total amino acid counts"
   ]
  },
  {
   "cell_type": "code",
   "execution_count": null,
   "metadata": {},
   "outputs": [],
   "source": [
    "hemolytic_seq_list = dbaasp_hemolytic.Sequence.values.tolist()\n",
    "hemolytic_aa_counts = AnalyzeComposition(hemolytic_seq_list)\n",
    "aa_labels = ['A','V', 'I', 'L', 'M', 'F', 'Y', 'W', 'R', 'H', 'K', 'D', 'E', 'S', 'T', 'N', 'Q', 'C', 'G', 'P']\n",
    "\n",
    "plt.bar(aa_labels, hemolytic_aa_counts)\n",
    "plt.savefig('plots/barplots/hemolytic_aa_distribution.pdf')"
   ]
  },
  {
   "cell_type": "markdown",
   "metadata": {},
   "source": [
    "DBAASP hemolytic: mean fractions and standard deviations of each amino acid"
   ]
  },
  {
   "cell_type": "code",
   "execution_count": null,
   "metadata": {},
   "outputs": [],
   "source": [
    "aa_labels = ['A','V', 'I', 'L', 'M', 'F', 'Y', 'W', 'R', 'H', 'K', 'D', 'E', 'S', 'T', 'N', 'Q', 'C', 'G', 'P']\n",
    "x_pos = np.arange(len(aa_labels))\n",
    "hemolytic_mean, hemolytic_std = AnalyzeCompositionFraction(hemolytic_seq_list)\n",
    "\n",
    "fig, ax = plt.subplots()\n",
    "ax.errorbar(x_pos, hemolytic_mean, yerr=hemolytic_std, fmt='o', color='black', capsize=5)\n",
    "ax.set_xticks(x_pos)\n",
    "ax.set_xticklabels(aa_labels)\n",
    "ax.set_ylim(ymin=0)\n",
    "\n",
    "plt.savefig('plots/barplots/hemolytic_aafraction_distribution_stdev.pdf')"
   ]
  },
  {
   "cell_type": "markdown",
   "metadata": {},
   "source": [
    "DBAASP not hemolytic"
   ]
  },
  {
   "cell_type": "code",
   "execution_count": null,
   "metadata": {},
   "outputs": [],
   "source": [
    "dbaasp_nonhemolytic = dbaasp_hemolysis[dbaasp_hemolysis['isNotHemolytic'] == 'Not Hemolytic'].copy()\n",
    "dbaasp_nonhemolytic['Set'] = 'Not Hemolytic'\n",
    "dbaasp_nonhemolytic = dbaasp_nonhemolytic[['Sequence', 'Set', 'Length']]"
   ]
  },
  {
   "cell_type": "markdown",
   "metadata": {},
   "source": [
    "DBAASP not hemolytic: bar plot of total amino acid counts"
   ]
  },
  {
   "cell_type": "code",
   "execution_count": null,
   "metadata": {},
   "outputs": [],
   "source": [
    "nonhemolytic_seq_list = dbaasp_nonhemolytic.Sequence.values.tolist()\n",
    "nonhemolytic_aa_counts = AnalyzeComposition(nonhemolytic_seq_list)\n",
    "aa_labels = ['A','V', 'I', 'L', 'M', 'F', 'Y', 'W', 'R', 'H', 'K', 'D', 'E', 'S', 'T', 'N', 'Q', 'C', 'G', 'P']\n",
    "\n",
    "plt.bar(aa_labels, nonhemolytic_aa_counts)\n",
    "plt.savefig('plots/barplots/nonhemolytic_aa_distribution.pdf')"
   ]
  },
  {
   "cell_type": "markdown",
   "metadata": {},
   "source": [
    "DBAASP not hemolytic: mean fractions and standard deviations of each amino acid"
   ]
  },
  {
   "cell_type": "code",
   "execution_count": null,
   "metadata": {},
   "outputs": [],
   "source": [
    "aa_labels = ['A','V', 'I', 'L', 'M', 'F', 'Y', 'W', 'R', 'H', 'K', 'D', 'E', 'S', 'T', 'N', 'Q', 'C', 'G', 'P']\n",
    "x_pos = np.arange(len(aa_labels))\n",
    "nonhemolytic_mean, nonhemolytic_std = AnalyzeCompositionFraction(nonhemolytic_seq_list)\n",
    "\n",
    "fig, ax = plt.subplots()\n",
    "ax.errorbar(x_pos, nonhemolytic_mean, yerr=nonhemolytic_std, fmt='o', color='black', capsize=5)\n",
    "ax.set_xticks(x_pos)\n",
    "ax.set_xticklabels(aa_labels)\n",
    "ax.set_ylim(ymin=0)\n",
    "\n",
    "plt.savefig('plots/barplots/nonhemolytic_aafraction_distribution_stdev.pdf')"
   ]
  },
  {
   "cell_type": "markdown",
   "metadata": {},
   "source": [
    "Import sequences selected with the RNN approach"
   ]
  },
  {
   "cell_type": "code",
   "execution_count": null,
   "metadata": {},
   "outputs": [],
   "source": [
    "rnn = pd.read_csv('data/anticancer_filtered.csv')\n",
    "rnn['Length'] = rnn.Sequence.apply(Length)\n",
    "rnn['Set'] = 'RNN'\n",
    "rnn = rnn[['Sequence', 'Set', 'Length']]"
   ]
  },
  {
   "cell_type": "markdown",
   "metadata": {},
   "source": [
    "RNN: bar plot of total amino acid counts"
   ]
  },
  {
   "cell_type": "code",
   "execution_count": null,
   "metadata": {},
   "outputs": [],
   "source": [
    "rnn_seq_list = rnn.Sequence.values.tolist()\n",
    "rnn_aa_counts = AnalyzeComposition(rnn_seq_list)\n",
    "aa_labels = ['A','V', 'I', 'L', 'M', 'F', 'Y', 'W', 'R', 'H', 'K', 'D', 'E', 'S', 'T', 'N', 'Q', 'C', 'G', 'P']\n",
    "\n",
    "plt.bar(aa_labels, rnn_aa_counts)\n",
    "plt.savefig('plots/barplots/rnn_aa_distribution.pdf')"
   ]
  },
  {
   "cell_type": "markdown",
   "metadata": {},
   "source": [
    "RNN: mean fractions and standard deviations of each amino acid"
   ]
  },
  {
   "cell_type": "code",
   "execution_count": null,
   "metadata": {},
   "outputs": [],
   "source": [
    "aa_labels = ['A','V', 'I', 'L', 'M', 'F', 'Y', 'W', 'R', 'H', 'K', 'D', 'E', 'S', 'T', 'N', 'Q', 'C', 'G', 'P']\n",
    "x_pos = np.arange(len(aa_labels))\n",
    "rnn_mean, rnn_std = AnalyzeCompositionFraction(rnn_seq_list)\n",
    "\n",
    "fig, ax = plt.subplots()\n",
    "ax.errorbar(x_pos, rnn_mean, yerr=rnn_std, fmt='o', color='black', capsize=5)\n",
    "ax.set_xticks(x_pos)\n",
    "ax.set_xticklabels(aa_labels)\n",
    "ax.set_ylim(ymin=0)\n",
    "\n",
    "plt.savefig('plots/barplots/rnn_aafraction_distribution_stdev.pdf')"
   ]
  },
  {
   "cell_type": "markdown",
   "metadata": {},
   "source": [
    "Import sequences selected with the PDGA approach"
   ]
  },
  {
   "cell_type": "code",
   "execution_count": null,
   "metadata": {},
   "outputs": [],
   "source": [
    "pdga = pd.read_csv('data/pdga_filtered.csv')\n",
    "pdga['Length'] = pdga.Sequence.apply(Length)\n",
    "pdga['Set'] = 'PDGA'\n",
    "pdga = pdga[['Sequence', 'Set', 'Length']]"
   ]
  },
  {
   "cell_type": "markdown",
   "metadata": {},
   "source": [
    "PDGA: bar plot of total amino acid counts"
   ]
  },
  {
   "cell_type": "code",
   "execution_count": null,
   "metadata": {},
   "outputs": [],
   "source": [
    "pdga_seq_list = pdga.Sequence.values.tolist()\n",
    "pdga_aa_counts = AnalyzeComposition(pdga_seq_list)\n",
    "aa_labels = ['A','V', 'I', 'L', 'M', 'F', 'Y', 'W', 'R', 'H', 'K', 'D', 'E', 'S', 'T', 'N', 'Q', 'C', 'G', 'P']\n",
    "\n",
    "plt.bar(aa_labels, pdga_aa_counts)\n",
    "plt.savefig('plots/barplots/pdga_aa_distribution.pdf')"
   ]
  },
  {
   "cell_type": "markdown",
   "metadata": {},
   "source": [
    "PDGA: mean fractions and standard deviations of each amino acid"
   ]
  },
  {
   "cell_type": "code",
   "execution_count": null,
   "metadata": {},
   "outputs": [],
   "source": [
    "aa_labels = ['A','V', 'I', 'L', 'M', 'F', 'Y', 'W', 'R', 'H', 'K', 'D', 'E', 'S', 'T', 'N', 'Q', 'C', 'G', 'P']\n",
    "x_pos = np.arange(len(aa_labels))\n",
    "pdga_mean, pdga_std = AnalyzeCompositionFraction(pdga_seq_list)\n",
    "\n",
    "fig, ax = plt.subplots()\n",
    "ax.errorbar(x_pos, pdga_mean, yerr=pdga_std, fmt='o', color='black', capsize=5)\n",
    "ax.set_xticks(x_pos)\n",
    "ax.set_xticklabels(aa_labels)\n",
    "ax.set_ylim(ymin=0)\n",
    "\n",
    "plt.savefig('plots/barplots/pdga_aafraction_distribution_stdev.pdf')"
   ]
  },
  {
   "cell_type": "markdown",
   "metadata": {},
   "source": [
    "#### DBAASP amino acid distribution analysis and generation of random sequences matching the distribution of DBAASP"
   ]
  },
  {
   "cell_type": "markdown",
   "metadata": {},
   "source": [
    "Normalize amino acid counts from dbaasp to obtain weights for random peptide generation"
   ]
  },
  {
   "cell_type": "code",
   "execution_count": null,
   "metadata": {},
   "outputs": [],
   "source": [
    "aa_labels = ['A','V', 'I', 'L', 'M', 'F', 'Y', 'W', 'R', 'H', 'K', 'D', 'E', 'S', 'T', 'N', 'Q', 'C', 'G', 'P']\n",
    "float_weights = (dbaasp_aa_counts/np.sum(dbaasp_aa_counts))*1000\n",
    "int_weights = float_weights.astype(int)\n",
    "\n",
    "labeled_weights = list(zip(aa_labels, int_weights))\n",
    "weighted_population = [aa for aa, wt in labeled_weights for i in range(wt)]"
   ]
  },
  {
   "cell_type": "markdown",
   "metadata": {},
   "source": [
    "Generate random set and save as .csv. If already run once, the cell will just load the previously generated set contained in the .csv file"
   ]
  },
  {
   "cell_type": "code",
   "execution_count": null,
   "metadata": {},
   "outputs": [],
   "source": [
    "if not os.path.exists('data/weighted_random_peptides_5_25.csv'):\n",
    "    \n",
    "    random_sequences = [RangeRandomSequence(weighted_population, 5, 25) for i in range(20000)]\n",
    "    wtrandom = pd.DataFrame(random_sequences, columns=['Sequence'])\n",
    "    wtrandom['Set'] = 'Random'\n",
    "    wtrandom['Length'] = wtrandom.Sequence.apply(Length)\n",
    "    wtrandom.to_csv('data/weighted_random_peptides_5_25.csv', index=False)\n",
    "\n",
    "else:\n",
    "\n",
    "    wtrandom = pd.read_csv('data/weighted_random_peptides_5_25.csv')"
   ]
  },
  {
   "cell_type": "markdown",
   "metadata": {},
   "source": [
    "Random: bar plot of total amino acid counts"
   ]
  },
  {
   "cell_type": "code",
   "execution_count": null,
   "metadata": {},
   "outputs": [],
   "source": [
    "random_seq_list = wtrandom.Sequence.values.tolist()\n",
    "random_aa_counts = AnalyzeComposition(random_seq_list)\n",
    "aa_labels = ['A','V', 'I', 'L', 'M', 'F', 'Y', 'W', 'R', 'H', 'K', 'D', 'E', 'S', 'T', 'N', 'Q', 'C', 'G', 'P']\n",
    "\n",
    "plt.bar(aa_labels, random_aa_counts)\n",
    "plt.savefig('plots/barplots/random_aa_distribution.pdf')"
   ]
  },
  {
   "cell_type": "markdown",
   "metadata": {},
   "source": [
    "Random: mean fractions and standard deviations of each amino acid"
   ]
  },
  {
   "cell_type": "code",
   "execution_count": null,
   "metadata": {},
   "outputs": [],
   "source": [
    "aa_labels = ['A','V', 'I', 'L', 'M', 'F', 'Y', 'W', 'R', 'H', 'K', 'D', 'E', 'S', 'T', 'N', 'Q', 'C', 'G', 'P']\n",
    "x_pos = np.arange(len(aa_labels))\n",
    "random_mean, random_std = AnalyzeCompositionFraction(random_seq_list)\n",
    "\n",
    "fig, ax = plt.subplots()\n",
    "ax.errorbar(x_pos, random_mean, yerr=random_std, fmt='o', color='black', capsize=5)\n",
    "ax.set_xticks(x_pos)\n",
    "ax.set_xticklabels(aa_labels)\n",
    "ax.set_ylim(ymin=0)\n",
    "\n",
    "plt.savefig('plots/barplots/random_aafraction_distribution_stdev.pdf')"
   ]
  },
  {
   "cell_type": "markdown",
   "metadata": {},
   "source": [
    "#### Mixed plots of fractions and standard deviations of amino acids"
   ]
  },
  {
   "cell_type": "markdown",
   "metadata": {},
   "source": [
    "Mixed DBAASP and random"
   ]
  },
  {
   "cell_type": "code",
   "execution_count": null,
   "metadata": {},
   "outputs": [],
   "source": [
    "aa_labels = ['A','V', 'I', 'L', 'M', 'F', 'Y', 'W', 'R', 'H', 'K', 'D', 'E', 'S', 'T', 'N', 'Q', 'C', 'G', 'P']\n",
    "x_pos = np.arange(len(aa_labels))\n",
    "\n",
    "fig, ax = plt.subplots(figsize=(10,4))\n",
    "ax.errorbar(x_pos-0.15, dbaasp_mean, yerr=dbaasp_std, fmt='o', capsize=5)\n",
    "ax.errorbar(x_pos+0.15, random_mean, yerr=random_std, fmt='o', capsize=5)\n",
    "ax.set_xticks(x_pos)\n",
    "ax.set_xticklabels(aa_labels)\n",
    "ax.set_ylim(ymin=0)\n",
    "\n",
    "plt.savefig('plots/barplots/mixed_aafraction_distribution_stdev.pdf')"
   ]
  },
  {
   "cell_type": "markdown",
   "metadata": {},
   "source": [
    "Mixed RNN and PDGA"
   ]
  },
  {
   "cell_type": "code",
   "execution_count": null,
   "metadata": {},
   "outputs": [],
   "source": [
    "aa_labels = ['A','V', 'I', 'L', 'M', 'F', 'Y', 'W', 'R', 'H', 'K', 'D', 'E', 'S', 'T', 'N', 'Q', 'C', 'G', 'P']\n",
    "x_pos = np.arange(len(aa_labels))\n",
    "\n",
    "fig, ax = plt.subplots(figsize=(10,4))\n",
    "ax.errorbar(x_pos-0.15, rnn_mean, yerr=rnn_std, fmt='o', capsize=5)\n",
    "ax.errorbar(x_pos+0.15, pdga_mean, yerr=pdga_std, fmt='o', capsize=5)\n",
    "ax.set_xticks(x_pos)\n",
    "ax.set_xticklabels(aa_labels)\n",
    "ax.set_ylim(ymin=0)\n",
    "\n",
    "plt.savefig('plots/barplots/mixed_sets_aafraction_distribution_stdev.pdf')"
   ]
  },
  {
   "cell_type": "markdown",
   "metadata": {},
   "source": [
    "Mixed DBAASP actives and inactives"
   ]
  },
  {
   "cell_type": "code",
   "execution_count": null,
   "metadata": {},
   "outputs": [],
   "source": [
    "aa_labels = ['A','V', 'I', 'L', 'M', 'F', 'Y', 'W', 'R', 'H', 'K', 'D', 'E', 'S', 'T', 'N', 'Q', 'C', 'G', 'P']\n",
    "x_pos = np.arange(len(aa_labels))\n",
    "\n",
    "fig, ax = plt.subplots(figsize=(10,4))\n",
    "ax.errorbar(x_pos-0.15, actives_mean, yerr=actives_std, fmt='o', capsize=5)\n",
    "ax.errorbar(x_pos+0.15, inactives_mean, yerr=inactives_std, fmt='o', capsize=5)\n",
    "ax.set_xticks(x_pos)\n",
    "ax.set_xticklabels(aa_labels)\n",
    "ax.set_ylim(ymin=0)\n",
    "\n",
    "plt.savefig('plots/barplots/mixed_act_aafraction_distribution_stdev.pdf')"
   ]
  },
  {
   "cell_type": "markdown",
   "metadata": {},
   "source": [
    "Mixed DBAASP hemolytic and not hemolytic"
   ]
  },
  {
   "cell_type": "code",
   "execution_count": null,
   "metadata": {},
   "outputs": [],
   "source": [
    "aa_labels = ['A','V', 'I', 'L', 'M', 'F', 'Y', 'W', 'R', 'H', 'K', 'D', 'E', 'S', 'T', 'N', 'Q', 'C', 'G', 'P']\n",
    "x_pos = np.arange(len(aa_labels))\n",
    "\n",
    "fig, ax = plt.subplots(figsize=(10,4))\n",
    "ax.errorbar(x_pos-0.15, hemolytic_mean, yerr=hemolytic_std, fmt='o', capsize=5)\n",
    "ax.errorbar(x_pos+0.15, nonhemolytic_mean, yerr=nonhemolytic_std, fmt='o', capsize=5)\n",
    "ax.set_xticks(x_pos)\n",
    "ax.set_xticklabels(aa_labels)\n",
    "ax.set_ylim(ymin=0)\n",
    "\n",
    "plt.savefig('plots/barplots/mixed_hem_aafraction_distribution_stdev.pdf')"
   ]
  },
  {
   "cell_type": "markdown",
   "metadata": {},
   "source": [
    "#### Concatenate all the dataframes"
   ]
  },
  {
   "cell_type": "code",
   "execution_count": null,
   "metadata": {},
   "outputs": [],
   "source": [
    "df = pd.concat([dbaasp, wtrandom, dbaasp_actives, dbaasp_inactives, dbaasp_nonhemolytic, dbaasp_hemolytic, rnn, pdga], ignore_index=True)"
   ]
  },
  {
   "cell_type": "markdown",
   "metadata": {},
   "source": [
    "#### Helicity prediction with SPIDER3"
   ]
  },
  {
   "cell_type": "markdown",
   "metadata": {},
   "source": [
    "Generate sequence input files and list of pointers towards the sequence files. These will be used by SPIDER3 for the helicity predictiona. Run cell once, otherwise the output in the list of pointers will be doubled and it will mess up the helicity prediction."
   ]
  },
  {
   "cell_type": "code",
   "execution_count": null,
   "metadata": {},
   "outputs": [],
   "source": [
    "for idx, seq in enumerate(df.Sequence.values.tolist()):\n",
    "    with open(f'/home/markus/Developer/SPIDER3-Single_np/anticancer_violin/seq/Seq_{idx}.seq', 'w') as f:\n",
    "        f.write(f'>Seq_{idx}')\n",
    "        f.write('\\n')\n",
    "        f.write(f'{seq}')\n",
    "\n",
    "    with open(f'/home/markus/Developer/SPIDER3-Single_np/anticancer_violin_list', 'a') as f:\n",
    "        f.write(f'Seq_{idx} ./anticancer_violin/seq/Seq_{idx}.seq')\n",
    "        f.write('\\n')"
   ]
  },
  {
   "cell_type": "markdown",
   "metadata": {},
   "source": [
    "Helper functions to read SPIDER3 predictions"
   ]
  },
  {
   "cell_type": "code",
   "execution_count": null,
   "metadata": {},
   "outputs": [],
   "source": [
    "def read_spider(row:pd.DataFrame, folder:str) -> object:\n",
    "\n",
    "    ss = []\n",
    "    idx = str(row.name)\n",
    "    name = f'Seq_{idx}.i1'\n",
    "\n",
    "    with open(folder+name) as infile:\n",
    "        for line in infile:\n",
    "            line = line.strip()\n",
    "            line = line.split(\" \")\n",
    "            ss.append(line[2])\n",
    "    return ss[1:]\n",
    "\n",
    "\n",
    "def count_ss(ss:object, pred:str='H') -> int:\n",
    "    return ss.count(pred)\n",
    "\n",
    "\n",
    "def fract_ss(ss:object, pred:str='H') -> float:\n",
    "    if len(ss)!=0:\n",
    "        return ss.count(pred)/len(ss)\n",
    "    else:\n",
    "        return 0"
   ]
  },
  {
   "cell_type": "markdown",
   "metadata": {},
   "source": [
    "Add predicted helicity to dataframe"
   ]
  },
  {
   "cell_type": "code",
   "execution_count": null,
   "metadata": {},
   "outputs": [],
   "source": [
    "df[\"SS\"] = df.apply(lambda x: read_spider(x, '/home/markus/Developer/SPIDER3-Single_np/anticancer_violin/out/'), axis=1)\n",
    "df[\"countH\"] = df.SS.map(count_ss)\n",
    "df[\"fraction_PredHelical\"] = df.SS.map(fract_ss)\n",
    "df[\"fraction_PredBetaSheet\"] = df.SS.map(lambda x : fract_ss(x, \"E\"))\n",
    "df[\"fraction_PredCoil\"] = df.SS.map(lambda x : fract_ss(x, \"C\"))"
   ]
  },
  {
   "cell_type": "markdown",
   "metadata": {},
   "source": [
    "#### Calculate hydrophobic moment"
   ]
  },
  {
   "cell_type": "markdown",
   "metadata": {},
   "source": [
    "Functions copied from reference given in the annotation"
   ]
  },
  {
   "cell_type": "code",
   "execution_count": null,
   "metadata": {},
   "outputs": [],
   "source": [
    "\"\"\"\n",
    "Calculates a set of properties from a protein sequence:\n",
    "    - hydrophobicity (according to a particular scale)\n",
    "    - mean hydrophobic dipole moment assuming it is an alpha-helix.\n",
    "    - total charge (at pH 7.4)\n",
    "    - amino acid composition\n",
    "    - discimination factor according to Rob Keller (IJMS, 2011)\n",
    "Essentially the same as HeliQuest (reproduces the same values).\n",
    "Author:\n",
    "  Joao Rodrigues\n",
    "  j.p.g.l.m.rodrigues@gmail.com\n",
    "\"\"\"\n",
    "\n",
    "from __future__ import print_function\n",
    "\n",
    "import argparse\n",
    "import csv\n",
    "import math\n",
    "import os\n",
    "import time\n",
    "\n",
    "#\n",
    "# Definitions\n",
    "#\n",
    "scales = {'Fauchere-Pliska': {'A':  0.31, 'R': -1.01, 'N': -0.60,\n",
    "                              'D': -0.77, 'C':  1.54, 'Q': -0.22,\n",
    "                              'E': -0.64, 'G':  0.00, 'H':  0.13,\n",
    "                              'I':  1.80, 'L':  1.70, 'K': -0.99,\n",
    "                              'M':  1.23, 'F':  1.79, 'P':  0.72,\n",
    "                              'S': -0.04, 'T':  0.26, 'W':  2.25,\n",
    "                              'Y':  0.96, 'V':  1.22},\n",
    "\n",
    "          'Eisenberg': {'A':  0.25, 'R': -1.80, 'N': -0.64,\n",
    "                        'D': -0.72, 'C':  0.04, 'Q': -0.69,\n",
    "                        'E': -0.62, 'G':  0.16, 'H': -0.40,\n",
    "                        'I':  0.73, 'L':  0.53, 'K': -1.10,\n",
    "                        'M':  0.26, 'F':  0.61, 'P': -0.07,\n",
    "                        'S': -0.26, 'T': -0.18, 'W':  0.37,\n",
    "                        'Y':  0.02, 'V':  0.54},\n",
    "          }\n",
    "_supported_scales = list(scales.keys())\n",
    "\n",
    "aa_charge = {'E': -1, 'D': -1, 'K': 1, 'R': 1}\n",
    "\n",
    "#\n",
    "# Functions\n",
    "#\n",
    "def assign_hydrophobicity(sequence, scale='Fauchere-Pliska'):  # noqa: E302\n",
    "    \"\"\"Assigns a hydrophobicity value to each amino acid in the sequence\"\"\"\n",
    "\n",
    "    hscale = scales.get(scale, None)\n",
    "    if not hscale:\n",
    "        raise KeyError('{} is not a supported scale. '.format(scale))\n",
    "\n",
    "    hvalues = []\n",
    "    for aa in sequence:\n",
    "        sc_hydrophobicity = hscale.get(aa, None)\n",
    "        if sc_hydrophobicity is None:\n",
    "            raise KeyError('Amino acid not defined in scale: {}'.format(aa))\n",
    "        hvalues.append(sc_hydrophobicity)\n",
    "\n",
    "    return hvalues\n",
    "\n",
    "\n",
    "def calculate_moment(array, angle=100):\n",
    "    \"\"\"Calculates the hydrophobic dipole moment from an array of hydrophobicity\n",
    "    values. Formula defined by Eisenberg, 1982 (Nature). Returns the average\n",
    "    moment (normalized by sequence length)\n",
    "    uH = sqrt(sum(Hi cos(i*d))**2 + sum(Hi sin(i*d))**2),\n",
    "    where i is the amino acid index and d (delta) is an angular value in\n",
    "    degrees (100 for alpha-helix, 180 for beta-sheet).\n",
    "    \"\"\"\n",
    "\n",
    "    sum_cos, sum_sin = 0.0, 0.0\n",
    "    for i, hv in enumerate(array):\n",
    "        rad_inc = ((i*angle)*math.pi)/180.0\n",
    "        sum_cos += hv * math.cos(rad_inc)\n",
    "        sum_sin += hv * math.sin(rad_inc)\n",
    "    if len(array) != 0:\n",
    "        return math.sqrt(sum_cos**2 + sum_sin**2) / len(array)\n",
    "    else:\n",
    "        print(array)\n",
    "        return 0\n",
    "\n",
    "\n",
    "def calculate_charge(sequence, charge_dict=aa_charge):\n",
    "    \"\"\"Calculates the charge of the peptide sequence at pH 7.4\n",
    "    \"\"\"\n",
    "    sc_charges = [charge_dict.get(aa, 0) for aa in sequence]\n",
    "    return sum(sc_charges)\n",
    "\n",
    "\n",
    "def calculate_discrimination(mean_uH, total_charge):\n",
    "    \"\"\"Returns a discrimination factor according to Rob Keller (IJMS, 2011)\n",
    "    A sequence with d>0.68 can be considered a potential lipid-binding region.\n",
    "    \"\"\"\n",
    "    d = 0.944*mean_uH + 0.33*total_charge\n",
    "    return d\n",
    "\n",
    "\n",
    "def calculate_composition(sequence):\n",
    "    \"\"\"Returns a dictionary with percentages per classes\"\"\"\n",
    "\n",
    "    # Residue character table\n",
    "    polar_aa = set(('S', 'T', 'N', 'H', 'Q', 'G'))\n",
    "    speci_aa = set(('P', 'C'))\n",
    "    apolar_aa = set(('A', 'L', 'V', 'I', 'M'))\n",
    "    charged_aa = set(('E', 'D', 'K', 'R'))\n",
    "    aromatic_aa = set(('W', 'Y', 'F'))\n",
    "\n",
    "    n_p, n_s, n_a, n_ar, n_c = 0, 0, 0, 0, 0\n",
    "    for aa in sequence:\n",
    "        if aa in polar_aa:\n",
    "            n_p += 1\n",
    "        elif aa in speci_aa:\n",
    "            n_s += 1\n",
    "        elif aa in apolar_aa:\n",
    "            n_a += 1\n",
    "        elif aa in charged_aa:\n",
    "            n_c += 1\n",
    "        elif aa in aromatic_aa:\n",
    "            n_ar += 1\n",
    "\n",
    "    return {'polar': n_p, 'special': n_s,\n",
    "            'apolar': n_a, 'charged': n_c, 'aromatic': n_ar}\n",
    "\n",
    "\n",
    "def analyze_sequence(name=None, sequence=None, window=18, verbose=False):\n",
    "    \"\"\"Runs all the above on a sequence. Pretty prints the results\"\"\"\n",
    "\n",
    "\n",
    "\n",
    "    w = window\n",
    "\n",
    "    outdata = []  # for csv writing\n",
    "\n",
    "    # Processing...\n",
    "    seq_len = len(sequence)\n",
    "    print('[+] Analysing sequence {} ({} aa.)'.format(name, seq_len))\n",
    "    print('[+] Using a window of {} aa.'.format(w))\n",
    "    for seq_range in range(0, seq_len):\n",
    "\n",
    "        seq_w = sequence[seq_range:seq_range+w]\n",
    "        if seq_range and len(seq_w) < w:\n",
    "            break\n",
    "\n",
    "        # Numerical values\n",
    "        z = calculate_charge(seq_w)\n",
    "        seq_h = assign_hydrophobicity(seq_w)\n",
    "        av_h = sum(seq_h)/len(seq_h)\n",
    "        av_uH = calculate_moment(seq_h)\n",
    "        d = calculate_discrimination(av_uH, z)\n",
    "\n",
    "        # AA composition\n",
    "        aa_comp = calculate_composition(seq_w)\n",
    "        n_tot_pol = aa_comp['polar'] + aa_comp['charged']\n",
    "        n_tot_apol = aa_comp['apolar'] + aa_comp['aromatic'] + aa_comp['special']  # noqa: E501\n",
    "        n_charged = aa_comp['charged']  # noqa: E501\n",
    "        n_aromatic = aa_comp['aromatic']  # noqa: E501\n",
    "\n",
    "        _t = [name, sequence, seq_range+1, w, seq_w, z, av_h, av_uH, d,\n",
    "              n_tot_pol, n_tot_apol, n_charged, n_aromatic]\n",
    "        outdata.append(_t)\n",
    "\n",
    "        if verbose:\n",
    "            print('  Window {}: {}-{}-{}'.format(seq_range+1, seq_range,\n",
    "                                                 seq_w, seq_range+w))\n",
    "            print('    z={:<3d} <H>={:4.3f} <uH>={:4.3f} D={:4.3f}'.format(z, av_h,  # noqa: E501\n",
    "                                                                           av_uH, d))  # noqa: E501\n",
    "            print('    Amino acid composition')\n",
    "            print('      Polar    : {:3d} / {:3.2f}%'.format(n_tot_pol, n_tot_pol*100/w))  # noqa: E501\n",
    "            print('      Non-Polar: {:3d} / {:3.2f}%'.format(n_tot_apol, n_tot_apol*100/w))  # noqa: E501\n",
    "            print('      Charged  : {:3d} / {:3.2f}%'.format(n_charged, n_charged*100/w))  # noqa: E501\n",
    "            print('      Aromatic : {:3d} / {:3.2f}%'.format(n_aromatic, n_aromatic*100/w))  # noqa: E501\n",
    "            print()\n",
    "\n",
    "    return outdata\n",
    "\n",
    "\n",
    "def read_fasta_file(afile):\n",
    "    \"\"\"Parses a file with FASTA formatted sequences\"\"\"\n",
    "\n",
    "    if not os.path.isfile(afile):\n",
    "        raise IOError('File not found/readable: {}'.format(afile))\n",
    "\n",
    "    sequences = []\n",
    "    seq_name, cur_seq = None, None\n",
    "    with open(afile) as handle:\n",
    "        for line in handle:\n",
    "            line = line.strip()\n",
    "            if line.startswith('>'):\n",
    "                if cur_seq:\n",
    "                    sequences.append((seq_name, ''.join(cur_seq)))\n",
    "                seq_name = line[1:]\n",
    "                cur_seq = []\n",
    "            elif line:\n",
    "                cur_seq.append(line)\n",
    "    sequences.append((seq_name, ''.join(cur_seq)))  # last seq\n",
    "\n",
    "    return sequences\n",
    "\n",
    "def hydr_moment(seq):\n",
    "    seq = seq.upper()\n",
    "    hdr = assign_hydrophobicity(seq,\"Eisenberg\")\n",
    "    return calculate_moment(hdr)"
   ]
  },
  {
   "cell_type": "code",
   "execution_count": null,
   "metadata": {},
   "outputs": [],
   "source": [
    "df['HydroMoment'] = df.Sequence.apply(hydr_moment)"
   ]
  },
  {
   "cell_type": "markdown",
   "metadata": {},
   "source": [
    "#### Calculate fraction of positive charges"
   ]
  },
  {
   "cell_type": "code",
   "execution_count": null,
   "metadata": {},
   "outputs": [],
   "source": [
    "def frac_pos_charges(seq:str) -> float: \n",
    "    \"\"\"\n",
    "    Determine the fraction of positive charges in a sequence. \n",
    "    \"\"\"\n",
    "    counter_pos = seq.count('K') + seq.count('R')\n",
    "    return counter_pos/len(seq)"
   ]
  },
  {
   "cell_type": "code",
   "execution_count": null,
   "metadata": {},
   "outputs": [],
   "source": [
    "df['fraction_PosCharges'] = df.Sequence.apply(frac_pos_charges)"
   ]
  },
  {
   "cell_type": "markdown",
   "metadata": {},
   "source": [
    "#### Violin plots"
   ]
  },
  {
   "cell_type": "markdown",
   "metadata": {},
   "source": [
    "Prepare dataframes for violin plots"
   ]
  },
  {
   "cell_type": "code",
   "execution_count": null,
   "metadata": {},
   "outputs": [],
   "source": [
    "#Set figure size\n",
    "sns.set(rc={'figure.figsize':(16, 8)})\n",
    "\n",
    "#Dataframe subsets\n",
    "wtrandom = df[df['Set'] == 'Random'].copy()\n",
    "wtrandom = wtrandom.drop_duplicates(subset=['Sequence']).copy()\n",
    "\n",
    "dbaasp = df[df['Set'] == 'DBAASP'].copy()\n",
    "dbaasp = dbaasp.drop_duplicates(subset=['Sequence']).copy()\n",
    "\n",
    "rnn = df[df['Set'] == 'RNN'].copy()\n",
    "rnn = rnn.drop_duplicates(subset=['Sequence']).copy()\n",
    "\n",
    "pdga = df[df['Set'] == 'PDGA'].copy()\n",
    "pdga = pdga.drop_duplicates(subset=['Sequence']).copy()\n",
    "\n",
    "dbaasp_actives = df[df['Set'] == 'Active'].copy()\n",
    "dbaasp_actives = dbaasp_actives.drop_duplicates(subset=['Sequence']).copy()\n",
    "\n",
    "dbaasp_inactives = df[df['Set'] == 'Inactive'].copy()\n",
    "dbaasp_inactives = dbaasp_inactives.drop_duplicates(subset=['Sequence']).copy()\n",
    "\n",
    "dbaasp_hemolytic = df[df['Set'] == 'Hemolytic'].copy()\n",
    "dbaasp_hemolytic = dbaasp_hemolytic.drop_duplicates(subset=['Sequence']).copy()\n",
    "\n",
    "dbaasp_nonhemolytic = df[df['Set'] == 'Not Hemolytic'].copy()\n",
    "dbaasp_hemolytic = dbaasp_nonhemolytic.drop_duplicates(subset=['Sequence']).copy()\n",
    "\n",
    "active_hemolytic = pd.merge(dbaasp_actives, dbaasp_hemolytic, how='inner', on=['Sequence', 'Length', 'fraction_PredHelical', 'HydroMoment', 'fraction_PosCharges'])\n",
    "active_hemolytic = active_hemolytic[['Sequence', 'Length', 'fraction_PredHelical', 'HydroMoment', 'fraction_PosCharges']]\n",
    "active_hemolytic['Set'] = 'Act. & hem.'\n",
    "\n",
    "active_nonhemolytic = pd.merge(dbaasp_actives, dbaasp_nonhemolytic, how='inner', on=['Sequence', 'Length', 'fraction_PredHelical', 'HydroMoment', 'fraction_PosCharges'])\n",
    "active_nonhemolytic = active_nonhemolytic[['Sequence', 'Length', 'fraction_PredHelical', 'HydroMoment', 'fraction_PosCharges']]\n",
    "active_nonhemolytic['Set'] = 'Act. & not hem.'\n",
    "\n",
    "inactive_hemolytic = pd.merge(dbaasp_inactives, dbaasp_hemolytic, how='inner', on=['Sequence', 'Length', 'fraction_PredHelical', 'HydroMoment', 'fraction_PosCharges'])\n",
    "inactive_hemolytic = inactive_hemolytic[['Sequence', 'Length', 'fraction_PredHelical', 'HydroMoment', 'fraction_PosCharges']]\n",
    "inactive_hemolytic['Set'] = 'Inact. & hem.'\n",
    "\n",
    "inactive_nonhemolytic = pd.merge(dbaasp_inactives, dbaasp_nonhemolytic, how='inner', on=['Sequence', 'Length', 'fraction_PredHelical', 'HydroMoment', 'fraction_PosCharges'])\n",
    "inactive_nonhemolytic = inactive_nonhemolytic[['Sequence', 'Length', 'fraction_PredHelical', 'HydroMoment', 'fraction_PosCharges']]\n",
    "inactive_nonhemolytic['Set'] = 'Inact. & not hem.'\n",
    "\n",
    "figure1 = pd.concat([wtrandom, dbaasp, rnn, pdga])\n",
    "figure2 = pd.concat([active_hemolytic, active_nonhemolytic, inactive_hemolytic, inactive_nonhemolytic])"
   ]
  },
  {
   "cell_type": "markdown",
   "metadata": {},
   "source": [
    "Mean, median and SD of active, inactive, hemolytic and nonhemolytic set"
   ]
  },
  {
   "cell_type": "code",
   "execution_count": null,
   "metadata": {},
   "outputs": [],
   "source": [
    "def StatisticalAnalysis(values:list) -> str:\n",
    "    \"\"\"\n",
    "    Returns mean and std in the form of mean +- std\n",
    "    \"\"\"\n",
    "    mean = sum(values)/len(values)\n",
    "    variance = sum([((x - mean) ** 2) for x in values])/len(values)\n",
    "    std = variance**0.5\n",
    "\n",
    "    return f'{mean} ± {std}'\n",
    "\n",
    "print('Predicted Helicity')\n",
    "print(f'Actives: {StatisticalAnalysis(dbaasp_actives.fraction_PredHelical.values.tolist())}')\n",
    "print(f'Inactives: {StatisticalAnalysis(dbaasp_inactives.fraction_PredHelical.values.tolist())}')\n",
    "print(f'Hemolytic: {StatisticalAnalysis(dbaasp_hemolytic.fraction_PredHelical.values.tolist())}')\n",
    "print(f'Not Hemolytic: {StatisticalAnalysis(dbaasp_nonhemolytic.fraction_PredHelical.values.tolist())}')\n",
    "print('')\n",
    "\n",
    "print('Hydrophobic Moment')\n",
    "print(f'Actives: {StatisticalAnalysis(dbaasp_actives.HydroMoment.values.tolist())}')\n",
    "print(f'Inactives: {StatisticalAnalysis(dbaasp_inactives.HydroMoment.values.tolist())}')\n",
    "print(f'Hemolytic: {StatisticalAnalysis(dbaasp_hemolytic.HydroMoment.values.tolist())}')\n",
    "print(f'Not Hemolytic: {StatisticalAnalysis(dbaasp_nonhemolytic.HydroMoment.values.tolist())}')\n",
    "print('')\n",
    "\n",
    "print('Fraction Positive Charges')\n",
    "print(f'Actives: {StatisticalAnalysis(dbaasp_actives.fraction_PosCharges.values.tolist())}')\n",
    "print(f'Inactives: {StatisticalAnalysis(dbaasp_inactives.fraction_PosCharges.values.tolist())}')\n",
    "print(f'Hemolytic: {StatisticalAnalysis(dbaasp_hemolytic.fraction_PosCharges.values.tolist())}')\n",
    "print(f'Not Hemolytic: {StatisticalAnalysis(dbaasp_nonhemolytic.fraction_PosCharges.values.tolist())}')\n",
    "print('')"
   ]
  },
  {
   "cell_type": "markdown",
   "metadata": {},
   "source": [
    "Create subsets containing sequences only above 18 and sequences only below 18"
   ]
  },
  {
   "cell_type": "code",
   "execution_count": null,
   "metadata": {},
   "outputs": [],
   "source": [
    "figure1_below18 = figure1[figure1['Length'] <= 18] \n",
    "figure2_below18 = figure2[figure2['Length'] <= 18] \n",
    "\n",
    "figure1_above18 = figure1[figure1['Length'] > 18] \n",
    "figure2_above18 = figure2[figure2['Length'] > 18] "
   ]
  },
  {
   "cell_type": "markdown",
   "metadata": {},
   "source": [
    "Helicity"
   ]
  },
  {
   "cell_type": "code",
   "execution_count": null,
   "metadata": {},
   "outputs": [],
   "source": [
    "ax = sns.violinplot(x='Set', y='fraction_PredHelical', data=figure1, palette=['#D81B60', '#E0E0E0', '#F0E442', '#057D5D'])\n",
    "sns.set(font_scale = 2)\n",
    "sns.set_style('ticks')\n",
    "sns.despine()\n",
    "plt.savefig('plots/violin/violin_helicity_figure1.pdf', bbox_inches='tight')"
   ]
  },
  {
   "cell_type": "code",
   "execution_count": null,
   "metadata": {},
   "outputs": [],
   "source": [
    "ax = sns.violinplot(x='Set', y='fraction_PredHelical', data=figure1_below18, palette=['#D81B60', '#E0E0E0', '#F0E442', '#057D5D'])\n",
    "sns.set(font_scale = 2)\n",
    "sns.set_style('ticks')\n",
    "sns.despine()\n",
    "plt.savefig('plots/violin/violin_helicity_figure1_below18.pdf', bbox_inches='tight')"
   ]
  },
  {
   "cell_type": "code",
   "execution_count": null,
   "metadata": {},
   "outputs": [],
   "source": [
    "ax = sns.violinplot(x='Set', y='fraction_PredHelical', data=figure1_above18, palette=['#D81B60', '#E0E0E0', '#F0E442', '#057D5D'])\n",
    "sns.set(font_scale = 2)\n",
    "sns.set_style('ticks')\n",
    "sns.despine()\n",
    "plt.savefig('plots/violin/violin_helicity_figure1_above18.pdf', bbox_inches='tight')"
   ]
  },
  {
   "cell_type": "code",
   "execution_count": null,
   "metadata": {},
   "outputs": [],
   "source": [
    "ax = sns.violinplot(x='Set', y='fraction_PredHelical', data=figure2, palette='colorblind')\n",
    "sns.set(font_scale = 2)\n",
    "sns.set_style('ticks')\n",
    "sns.despine()\n",
    "plt.savefig('plots/violin/violin_helicity_figure2.pdf', bbox_inches='tight')"
   ]
  },
  {
   "cell_type": "code",
   "execution_count": null,
   "metadata": {},
   "outputs": [],
   "source": [
    "ax = sns.violinplot(x='Set', y='fraction_PredHelical', data=figure2_below18, palette='colorblind')\n",
    "sns.set(font_scale = 2)\n",
    "sns.set_style('ticks')\n",
    "sns.despine()\n",
    "plt.savefig('plots/violin/violin_helicity_figure2_below18.pdf', bbox_inches='tight')"
   ]
  },
  {
   "cell_type": "code",
   "execution_count": null,
   "metadata": {},
   "outputs": [],
   "source": [
    "ax = sns.violinplot(x='Set', y='fraction_PredHelical', data=figure2_above18, palette='colorblind')\n",
    "sns.set(font_scale = 2)\n",
    "sns.set_style('ticks')\n",
    "sns.despine()\n",
    "plt.savefig('plots/violin/violin_helicity_figure2_above18.pdf', bbox_inches='tight')"
   ]
  },
  {
   "cell_type": "markdown",
   "metadata": {},
   "source": [
    "Hydrophobic Moment"
   ]
  },
  {
   "cell_type": "code",
   "execution_count": null,
   "metadata": {},
   "outputs": [],
   "source": [
    "ax = sns.violinplot(x='Set', y='HydroMoment', data=figure1, palette=['#D81B60', '#E0E0E0', '#F0E442', '#057D5D'])\n",
    "sns.set(font_scale = 2)\n",
    "sns.set_style('ticks')\n",
    "sns.despine()\n",
    "plt.savefig('plots/violin/violin_hydromoment_figure1.pdf', bbox_inches='tight')"
   ]
  },
  {
   "cell_type": "code",
   "execution_count": null,
   "metadata": {},
   "outputs": [],
   "source": [
    "ax = sns.violinplot(x='Set', y='HydroMoment', data=figure1_below18, palette=['#D81B60', '#E0E0E0', '#F0E442', '#057D5D'])\n",
    "sns.set(font_scale = 2)\n",
    "sns.set_style('ticks')\n",
    "sns.despine()\n",
    "plt.savefig('plots/violin/violin_hydromoment_figure1_below18.pdf', bbox_inches='tight')"
   ]
  },
  {
   "cell_type": "code",
   "execution_count": null,
   "metadata": {},
   "outputs": [],
   "source": [
    "ax = sns.violinplot(x='Set', y='HydroMoment', data=figure1_above18, palette=['#D81B60', '#E0E0E0', '#F0E442', '#057D5D'])\n",
    "sns.set(font_scale = 2)\n",
    "sns.set_style('ticks')\n",
    "sns.despine()\n",
    "plt.savefig('plots/violin/violin_hydromoment_figure1_above18.pdf', bbox_inches='tight')"
   ]
  },
  {
   "cell_type": "code",
   "execution_count": null,
   "metadata": {},
   "outputs": [],
   "source": [
    "ax = sns.violinplot(x='Set', y='HydroMoment', data=figure2, palette='colorblind')\n",
    "sns.set(font_scale = 2)\n",
    "sns.set_style('ticks')\n",
    "sns.despine()\n",
    "plt.savefig('plots/violin/violin_hydromoment_figure2.pdf', bbox_inches='tight')"
   ]
  },
  {
   "cell_type": "code",
   "execution_count": null,
   "metadata": {},
   "outputs": [],
   "source": [
    "ax = sns.violinplot(x='Set', y='HydroMoment', data=figure2_below18, palette='colorblind')\n",
    "sns.set(font_scale = 2)\n",
    "sns.set_style('ticks')\n",
    "sns.despine()\n",
    "plt.savefig('plots/violin/violin_hydromoment_figure2_below18.pdf', bbox_inches='tight')"
   ]
  },
  {
   "cell_type": "code",
   "execution_count": null,
   "metadata": {},
   "outputs": [],
   "source": [
    "ax = sns.violinplot(x='Set', y='HydroMoment', data=figure2_above18, palette='colorblind')\n",
    "sns.set(font_scale = 2)\n",
    "sns.set_style('ticks')\n",
    "sns.despine()\n",
    "plt.savefig('plots/violin/violin_hydromoment_figure2_above18.pdf', bbox_inches='tight')"
   ]
  },
  {
   "cell_type": "markdown",
   "metadata": {},
   "source": [
    "Fraction of positive charges"
   ]
  },
  {
   "cell_type": "code",
   "execution_count": null,
   "metadata": {},
   "outputs": [],
   "source": [
    "ax = sns.violinplot(x='Set', y='fraction_PosCharges', data=figure1, palette=['#D81B60', '#E0E0E0', '#F0E442', '#057D5D'])\n",
    "sns.set(font_scale = 2)\n",
    "sns.set_style('ticks')\n",
    "sns.despine()\n",
    "plt.savefig('plots/violin/violin_poscharges_figure1.pdf', bbox_inches='tight')"
   ]
  },
  {
   "cell_type": "code",
   "execution_count": null,
   "metadata": {},
   "outputs": [],
   "source": [
    "ax = sns.violinplot(x='Set', y='fraction_PosCharges', data=figure1_below18, palette=['#D81B60', '#E0E0E0', '#F0E442', '#057D5D'])\n",
    "sns.set(font_scale = 2)\n",
    "sns.set_style('ticks')\n",
    "sns.despine()\n",
    "plt.savefig('plots/violin/violin_poscharges_figure1_below18.pdf', bbox_inches='tight')"
   ]
  },
  {
   "cell_type": "code",
   "execution_count": null,
   "metadata": {},
   "outputs": [],
   "source": [
    "ax = sns.violinplot(x='Set', y='fraction_PosCharges', data=figure1_above18, palette=['#D81B60', '#E0E0E0', '#F0E442', '#057D5D'])\n",
    "sns.set(font_scale = 2)\n",
    "sns.set_style('ticks')\n",
    "sns.despine()\n",
    "plt.savefig('plots/violin/violin_poscharges_figure1_above18.pdf', bbox_inches='tight')"
   ]
  },
  {
   "cell_type": "code",
   "execution_count": null,
   "metadata": {},
   "outputs": [],
   "source": [
    "ax = sns.violinplot(x='Set', y='fraction_PosCharges', data=figure2, palette='colorblind')\n",
    "sns.set(font_scale = 2)\n",
    "sns.set_style('ticks')\n",
    "sns.despine()\n",
    "plt.savefig('plots/violin/violin_poscharges_figure2.pdf', bbox_inches='tight')"
   ]
  },
  {
   "cell_type": "code",
   "execution_count": null,
   "metadata": {},
   "outputs": [],
   "source": [
    "ax = sns.violinplot(x='Set', y='fraction_PosCharges', data=figure2_below18, palette='colorblind')\n",
    "sns.set(font_scale = 2)\n",
    "sns.set_style('ticks')\n",
    "sns.despine()\n",
    "plt.savefig('plots/violin/violin_poscharges_figure2_below18.pdf', bbox_inches='tight')"
   ]
  },
  {
   "cell_type": "code",
   "execution_count": null,
   "metadata": {},
   "outputs": [],
   "source": [
    "ax = sns.violinplot(x='Set', y='fraction_PosCharges', data=figure2, palette='colorblind')\n",
    "sns.set(font_scale = 2)\n",
    "sns.set_style('ticks')\n",
    "sns.despine()\n",
    "plt.savefig('plots/violin/violin_poscharges_figure2_above18.pdf', bbox_inches='tight')"
   ]
  },
  {
   "cell_type": "markdown",
   "metadata": {},
   "source": [
    "#### MAP4 TMAP with activity and hemolysis prediction outcomes (true/false positive/negative)"
   ]
  },
  {
   "cell_type": "markdown",
   "metadata": {},
   "source": [
    "Prepare the dataframe containing dbaasp, synthesized and selected compounds from both approaches and literature compounds"
   ]
  },
  {
   "cell_type": "code",
   "execution_count": null,
   "metadata": {},
   "outputs": [],
   "source": [
    "#DBAASP sequences with activity and hemolysis annotation\n",
    "activity = dbaasp_activity.drop_duplicates(subset='Sequence').copy()\n",
    "hemolysis = dbaasp_hemolysis.drop_duplicates(subset='Sequence').copy()\n",
    "\n",
    "#Synthesized sequences\n",
    "synthesized = pd.read_csv('data/synthesized_sequences.csv')\n",
    "\n",
    "#Selected sequences from RNN and PDGA approaches\n",
    "rnn['isActive'] = 'Unknown'\n",
    "rnn['isNotHemolytic'] = 'Unknown'\n",
    "rnn['Set'] = 'RNN selected'\n",
    "\n",
    "pdga['isActive'] = 'Unknown'\n",
    "pdga['isNotHemolytic'] = 'Unknown'\n",
    "pdga['Set'] = 'PDGA selected'\n",
    "\n",
    "selected = pd.concat([rnn, pdga])\n",
    "selected = pd.merge(selected, synthesized, on=['Sequence'], how='outer', indicator=True)\n",
    "selected = selected[selected['_merge']=='left_only']\n",
    "selected = selected.rename(columns={'Set_x': 'Set', 'Length_x': 'Length', 'isActive_x': 'isActive', 'isNotHemolytic_x': 'isNotHemolytic'})\n",
    "selected = selected[['Sequence', 'Set', 'Length', 'isActive', 'isNotHemolytic']]\n",
    "\n",
    "#Literature sequences\n",
    "literature = pd.read_csv('data/literature_sequences.csv')\n",
    "\n",
    "#Merge dataframes\n",
    "df_tmap = pd.merge(activity, hemolysis, how='inner', on=['ID', 'Sequence', 'Length'])\n",
    "df_tmap['Set'] = 'DBAASP'\n",
    "df_tmap = df_tmap[['Sequence', 'Set', 'Length', 'isActive', 'isNotHemolytic']]\n",
    "df_tmap = df_tmap.append(selected)\n",
    "df_tmap = df_tmap.append(synthesized)\n",
    "df_tmap = df_tmap.append(literature)"
   ]
  },
  {
   "cell_type": "markdown",
   "metadata": {},
   "source": [
    "Rename Set to order them in Faerun "
   ]
  },
  {
   "cell_type": "code",
   "execution_count": null,
   "metadata": {},
   "outputs": [],
   "source": [
    "df_tmap.loc[df_tmap['Set'] == 'DBAASP', 'Set'] = '0 - DBAASP'\n",
    "df_tmap.loc[df_tmap['Set'] == 'RNN selected', 'Set'] = '1 - RNN selected'\n",
    "df_tmap.loc[df_tmap['Set'] == 'RNN synthesized', 'Set'] = '2 - RNN synthesized'\n",
    "df_tmap.loc[df_tmap['Set'] == 'PDGA selected', 'Set'] = '3 - PDGA selected'\n",
    "df_tmap.loc[df_tmap['Set'] == 'PDGA synthesized', 'Set'] = '4 - PDGA synthesized'\n",
    "df_tmap.loc[df_tmap['Set'] == 'Literature', 'Set'] = '5 - Literature'"
   ]
  },
  {
   "cell_type": "markdown",
   "metadata": {},
   "source": [
    "Load activity and hemolysis classifier and add predicted activity and hemolysis to dataframe. Determine the outcome of the prediction (true/false positive/negative)"
   ]
  },
  {
   "cell_type": "code",
   "execution_count": null,
   "metadata": {},
   "outputs": [],
   "source": [
    "model_activity = Classifier.load_from_file('models/em100_hi400_la2_ep38')\n",
    "model_hemolysis = Classifier.load_from_file('models/em100_hi400_la1_ep95')\n",
    "\n",
    "model_activity.to('cpu')\n",
    "model_hemolysis.to('cpu')\n",
    "\n",
    "df_tmap['PredActivity'] = df_tmap.Sequence.map(lambda x: model_activity.predict_peptide_sequence(x)[:,1][0])\n",
    "df_tmap['isPredActive'] = df_tmap['PredActivity'] > 0.99205756\n",
    "df_tmap['PredHemolysis'] = df_tmap.Sequence.map(lambda x: model_hemolysis.predict_peptide_sequence(x)[:,1][0])\n",
    "df_tmap['isPredNotHemolytic'] = df_tmap['PredHemolysis'] > 0.99981695\n",
    "\n",
    "#Determine activity outcomes (true positive, false positive, true negative, false negative)\n",
    "\n",
    "def ActivityOutcome(row:pd.DataFrame) -> str:\n",
    "    \"\"\"\n",
    "    Assign a label according to activity classification outcome.\n",
    "    \"\"\"\n",
    "    if row.isActive == 'Active' and row.isPredActive == True:\n",
    "        return '1 - True active'\n",
    "    elif row.isActive == 'Inactive' and row.isPredActive == True:\n",
    "        return '4 - False active'\n",
    "    elif row.isActive == 'Inactive' and row.isPredActive == False:\n",
    "        return '3 - True inactive' \n",
    "    elif row.isActive == 'Active' and row.isPredActive == False:\n",
    "        return '2 - False inactive'\n",
    "    elif row.isActive == 'Unknown':\n",
    "        return '5 - Unknown'\n",
    "\n",
    "def HemolysisOutcome(row:pd.DataFrame) -> str:\n",
    "    \"\"\"\n",
    "    Assign a label according to hemolysis classification outcome.\n",
    "    \"\"\"\n",
    "    if row.isNotHemolytic == 'Not Hemolytic' and row.isPredNotHemolytic == True:\n",
    "        return '1 - True not hemolytic'\n",
    "    elif row.isNotHemolytic == 'Hemolytic' and row.isPredNotHemolytic == True:\n",
    "        return '4 - False not hemolytic'\n",
    "    elif row.isNotHemolytic == 'Not Hemolytic' and row.isPredNotHemolytic == False:\n",
    "        return '2 - False hemolytic' \n",
    "    elif row.isNotHemolytic == 'Hemolytic' and row.isPredNotHemolytic == False:\n",
    "        return '3 - True hemolytic'\n",
    "    elif row.isNotHemolytic == 'Unknown':\n",
    "        return '5 - Unknown'\n",
    "\n",
    "df_tmap['ActivityOutcome'] = df_tmap.apply(ActivityOutcome, axis=1)\n",
    "df_tmap['HemolysisOutcome'] = df_tmap.apply(HemolysisOutcome, axis=1)"
   ]
  },
  {
   "cell_type": "markdown",
   "metadata": {},
   "source": [
    "Generate helicity prediction files. Run only once otherwise the list of pointers will contain double as many pointers and it will mess up the prediction."
   ]
  },
  {
   "cell_type": "code",
   "execution_count": null,
   "metadata": {},
   "outputs": [],
   "source": [
    "for idx, seq in enumerate(df_tmap.Sequence.values.tolist()):\n",
    "    with open(f'/home/markus/Developer/SPIDER3-Single_np/anticancer_combined/seq/Seq_{idx}.seq', 'w') as f:\n",
    "        f.write(f'>Seq_{idx}')\n",
    "        f.write('\\n')\n",
    "        f.write(f'{seq}')\n",
    "\n",
    "    with open(f'/home/markus/Developer/SPIDER3-Single_np/anticancer_combined_list', 'a') as f:\n",
    "        f.write(f'Seq_{idx} ./anticancer_combined/seq/Seq_{idx}.seq')\n",
    "        f.write('\\n')"
   ]
  },
  {
   "cell_type": "markdown",
   "metadata": {},
   "source": [
    "Add predicted helicity, hydrophobic moment and fraction of positive charges to dataframe"
   ]
  },
  {
   "cell_type": "code",
   "execution_count": null,
   "metadata": {},
   "outputs": [],
   "source": [
    "df_tmap[\"SS\"] = df_tmap.apply(lambda x: read_spider(x, '/home/markus/Developer/SPIDER3-Single_np/anticancer_combined/out/'), axis=1)\n",
    "df_tmap[\"countH\"] = df_tmap.SS.map(count_ss)\n",
    "df_tmap[\"fraction_PredHelical\"] = df_tmap.SS.map(fract_ss)\n",
    "df_tmap[\"fraction_PredBetaSheet\"] = df_tmap.SS.map(lambda x : fract_ss(x, \"E\"))\n",
    "df_tmap[\"fraction_PredCoil\"] = df_tmap.SS.map(lambda x : fract_ss(x, \"C\"))\n",
    "\n",
    "df_tmap['HydroMoment'] = df_tmap.Sequence.apply(hydr_moment)\n",
    "df_tmap['fraction_PosCharges'] = df_tmap.Sequence.apply(frac_pos_charges)"
   ]
  },
  {
   "cell_type": "markdown",
   "metadata": {},
   "source": [
    "Add SMILES, RDKit mol object and MAP4 fingerprint columns to dataframe"
   ]
  },
  {
   "cell_type": "code",
   "execution_count": null,
   "metadata": {},
   "outputs": [],
   "source": [
    "#To translate peptide sequences to SMILES\n",
    "AA_all = {\n",
    "            'A': 'C(=O)[C@@](C)N', 'a': 'C(=O)[C@](C)N',\n",
    "            'V': 'C(=O)[C@@](C(C)C)N', 'v': 'C(=O)[C@](C(C)C)N',\n",
    "            'I': 'C(=O)[C@@](C(C)CC)N', 'i': 'C(=O)[C@](C(C)CC)N',\n",
    "            'L': 'C(=O)[C@@](CC(C)C)N', 'l': 'C(=O)[C@](CC(C)C)N',\n",
    "            'M': 'C(=O)[C@@](CCSC)N', 'm': 'C(=O)[C@](CCSC)N',\n",
    "            'F': 'C(=O)[C@@](CC1=CC=CC=C1)N', 'f': 'C(=O)[C@](CC1=CC=CC=C1)N',\n",
    "            'Y': 'C(=O)[C@@](CC1=CC=C(O)C=C1)N', 'y': 'C(=O)[C@](CC1=CC=C(O)C=C1)N',\n",
    "            'W': 'C(=O)[C@@](CC1=CNC2=C1C=CC=C2)N', 'w': 'C(=O)[C@](CC1=CNC2=C1C=CC=C2)N',\n",
    "            'R': 'C(=O)[C@@](CCCNC(=N)N)N', 'r': 'C(=O)[C@](CCCNC(=N)N)N',\n",
    "            'H': 'C(=O)[C@@](CC1=CNC=N1)N', 'h': 'C(=O)[C@](CC1=CNC=N1)N',\n",
    "            'K': 'C(=O)[C@@](CCCCN)N', 'k': 'C(=O)[C@](CCCCN)N',\n",
    "            'D': 'C(=O)[C@@](CC(=O)O)N', 'd': 'C(=O)[C@](CC(=O)O)N',\n",
    "            'E': 'C(=O)[C@@](CCC(=O)O)N', 'e': 'C(=O)[C@](CCC(=O)O)N',\n",
    "            'S': 'C(=O)[C@@](CO)N', 's': 'C(=O)[C@](CO)N',\n",
    "            'T': 'C(=O)[C@@](C(C)O)N', 't': 'C(=O)[C@](C(C)O)N',\n",
    "            'N': 'C(=O)[C@@](CC(=O)N)N', 'n': 'C(=O)[C@](CC(=O)N)N',\n",
    "            'Q': 'C(=O)[C@@](CCC(=O)N)N', 'q': 'C(=O)[C@](CCC(=O)N)N',\n",
    "            'C': 'C(=O)[C@@](CS)N', 'c': 'C(=O)[C@](CS)N',\n",
    "            'G': 'C(=O)CN',\n",
    "            'P': 'C(=O)[C@@](C1NCCC1)N', 'p': 'C(=O)[C@](C1NCCC1)N',\n",
    "}\n",
    "\n",
    "def SeqToSmiles(seq:str) -> str:\n",
    "    \"\"\"\n",
    "    Translate a natural peptide sequence to SMILES.\n",
    "    \"\"\"\n",
    "    smiles = 'O'\n",
    "    for idx, aa in enumerate(seq):\n",
    "        smiles += str(AA_all.get(aa))\n",
    "    return smiles"
   ]
  },
  {
   "cell_type": "code",
   "execution_count": null,
   "metadata": {},
   "outputs": [],
   "source": [
    "df_tmap = df_tmap[['Sequence', 'Set', 'Length', 'isActive', 'isNotHemolytic', 'ActivityOutcome', 'HemolysisOutcome', 'fraction_PredHelical', 'HydroMoment', 'fraction_PosCharges']].copy()\n",
    "\n",
    "MAP4 = MAP4Calculator(dimensions=1024)\n",
    "def calc_map4(mol):\n",
    "    map4 = MAP4.calculate(mol)\n",
    "    return np.array(map4)\n",
    "\n",
    "df_tmap['SMILES'] = df_tmap.Sequence.apply(SeqToSmiles)\n",
    "df_tmap['ROMol'] = df_tmap.SMILES.apply(Chem.MolFromSmiles)\n",
    "df_tmap['MAP4'] = df_tmap.ROMol.parallel_map(calc_map4)"
   ]
  },
  {
   "cell_type": "markdown",
   "metadata": {},
   "source": [
    "Prepare TMAP layout"
   ]
  },
  {
   "cell_type": "code",
   "execution_count": null,
   "metadata": {},
   "outputs": [],
   "source": [
    "lf = tm.LSHForest(1024, 64)\n",
    "\n",
    "map4 = np.array(df_tmap['MAP4'])\n",
    "fps = []\n",
    "\n",
    "for i in map4:\n",
    "    vec = tm.VectorUint(i)\n",
    "    fps.append(vec)\n",
    "\n",
    "lf.batch_add(fps)\n",
    "lf.index()\n",
    "\n",
    "cfg = tm.LayoutConfiguration() #configuration parameters for tmap layout\n",
    "cfg.node_size = 1 / 40 #size of nodes which affects the magnitude of their repelling force. Decreasing this values generally resolves overlaps in a very crowded tree\n",
    "cfg.mmm_repeats = 2 #number of repeats of the per-level layout algorithm\n",
    "cfg.sl_extra_scaling_steps = 5 #sets the number of repeats of the scaling\n",
    "cfg.k = 15 #number of nearest neighbours used to create the k-nearest neighbour graph\n",
    "cfg.sl_scaling_type = tm.RelativeToAvgLength #Defines the relative scale of the graph\n",
    "x, y, s, t, _ = tm.layout_from_lsh_forest(lf, cfg)"
   ]
  },
  {
   "cell_type": "markdown",
   "metadata": {},
   "source": [
    "Calculate log10(Length) for better looking color scale and generate size list to make DBAASP dots smaller than the other datapoints for better visibility"
   ]
  },
  {
   "cell_type": "code",
   "execution_count": null,
   "metadata": {},
   "outputs": [],
   "source": [
    "df_tmap['log10(Length)'] = df_tmap.Length.apply(math.log10)\n",
    "\n",
    "def calc_sphere_size(set_label:str) -> int:\n",
    "    \"\"\"\n",
    "    Returns a single int value corresponding to the relative dot size in Faerun. DBAASP dots are smaller than the rest.\n",
    "    \"\"\"\n",
    "    if set_label == '0 - DBAASP':\n",
    "        return 0.75\n",
    "    else:\n",
    "        return 1.25\n",
    "\n",
    "df_tmap['size'] = df_tmap.Set.apply(calc_sphere_size)\n",
    "size_list = df_tmap['size'].values.tolist()"
   ]
  },
  {
   "cell_type": "markdown",
   "metadata": {},
   "source": [
    "Prepare colormaps"
   ]
  },
  {
   "cell_type": "code",
   "execution_count": null,
   "metadata": {},
   "outputs": [],
   "source": [
    "sets_cmap = ListedColormap(['#E0E0E0', '#FFC107', '#D81B60', '#76D404', '#004D40', '#1E88E5', ], name=\"custom2\")\n",
    "hemolysis_cmap = ListedColormap(['#EF8636', '#3B75AF', '#E0E0E0'], name=\"custom2\")\n",
    "activity_cmap = ListedColormap(['#3B75AF', '#EF8636', '#E0E0E0'], name=\"custom2\")\n",
    "outcome_cmap = ListedColormap(['#3B75AF', '#B3C6E5', '#EF8636', '#F5BE82', '#E0E0E0'], name=\"custom2\")\n",
    "bdsd_outcome_cmap = ListedColormap(['#051821', '#F8BC24', '#266867', '#F58800', '#E0E0E0'], name=\"custom2\")"
   ]
  },
  {
   "cell_type": "markdown",
   "metadata": {},
   "source": [
    "Prepare sets of properties"
   ]
  },
  {
   "cell_type": "code",
   "execution_count": null,
   "metadata": {},
   "outputs": [],
   "source": [
    "set_labels, set_data = Faerun.create_categories(df_tmap['Set'])\n",
    "activity_outcome_labels, activity_outcome_data = Faerun.create_categories(df_tmap['ActivityOutcome'])\n",
    "activity_labels, activity_data = Faerun.create_categories(df_tmap['isActive'])\n",
    "hemolysis_outcome_labels, hemolysis_outcome_data = Faerun.create_categories(df_tmap['HemolysisOutcome'])\n",
    "hemolysis_labels, hemolysis_data = Faerun.create_categories(df_tmap['isNotHemolytic'])"
   ]
  },
  {
   "cell_type": "markdown",
   "metadata": {},
   "source": [
    "Plot with Faerun"
   ]
  },
  {
   "cell_type": "code",
   "execution_count": null,
   "metadata": {},
   "outputs": [],
   "source": [
    "f = Faerun(\n",
    "    view=\"front\", \n",
    "    coords=False,\n",
    "    title=\"\",\n",
    "    clear_color='#FFFFFF'\n",
    ")\n",
    "\n",
    "f.add_scatter(\n",
    "    \"ACP_MAP4_TMAP\",\n",
    "    {\n",
    "        \"x\": x,\n",
    "        \"y\": y,\n",
    "        \"c\": [set_data,\n",
    "            df_tmap['log10(Length)'].values.tolist(),\n",
    "            activity_data, \n",
    "            activity_outcome_data,\n",
    "            hemolysis_data,\n",
    "            hemolysis_outcome_data,\n",
    "            df_tmap['fraction_PredHelical'].values.tolist(),\n",
    "            df_tmap['HydroMoment'].values.tolist(),\n",
    "            df_tmap['fraction_PosCharges'].values.tolist()\n",
    "            ],\n",
    "        \"s\": [size_list,\n",
    "            size_list, \n",
    "            size_list,\n",
    "            size_list,\n",
    "            size_list,\n",
    "            size_list,\n",
    "            size_list,\n",
    "            size_list,\n",
    "            size_list, \n",
    "            ],\n",
    "            \n",
    "        \"labels\": df_tmap['Sequence'],\n",
    "    },\n",
    "    shader=\"sphere\",\n",
    "    point_scale=7.5,\n",
    "    max_point_size=20,\n",
    "    legend_labels=[set_labels, None, activity_labels, activity_outcome_labels, hemolysis_labels, hemolysis_outcome_labels, None, None, None],\n",
    "    categorical=[True, False, True, True, True, True, False, False, False],\n",
    "    max_legend_label=[None, str(round(max(df_tmap['Length'].values.tolist()))), None, None, None, None, None, None, None],\n",
    "    min_legend_label=[None, str(round(min(df_tmap['Length'].values.tolist()))), None, None, None, None, None, None, None],\n",
    "    colormap=[sets_cmap, 'rainbow', activity_cmap, outcome_cmap, hemolysis_cmap, outcome_cmap, 'rainbow', 'rainbow', 'rainbow'],\n",
    "    series_title=['Set', 'Length', 'Activity', 'ActivityOutcome', 'Hemolysis', 'HemolysisOutcome', 'fraction_PredHelical', 'HydroMoment', 'fraction_PosCharges'],\n",
    "    has_legend=True,\n",
    ")\n",
    "f.add_tree(\"ACP_MAP4_TMAP_tree\", {\"from\": s, \"to\": t}, point_helper=\"ACP_MAP4_TMAP\")\n",
    "f.plot('plots/activity_hemolysis_MAP4_TMAP')"
   ]
  }
 ],
 "metadata": {
  "interpreter": {
   "hash": "47851da9566ddb989edfca06a23257dc38c93a8ea383aeec879827c771dac1a1"
  },
  "kernelspec": {
   "display_name": "Python 3.6.13 ('chemical_space')",
   "language": "python",
   "name": "python3"
  },
  "language_info": {
   "codemirror_mode": {
    "name": "ipython",
    "version": 3
   },
   "file_extension": ".py",
   "mimetype": "text/x-python",
   "name": "python",
   "nbconvert_exporter": "python",
   "pygments_lexer": "ipython3",
   "version": "3.6.13"
  },
  "orig_nbformat": 4
 },
 "nbformat": 4,
 "nbformat_minor": 2
}
